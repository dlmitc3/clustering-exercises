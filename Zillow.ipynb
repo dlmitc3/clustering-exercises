{
 "cells": [
  {
   "cell_type": "code",
   "execution_count": 1,
   "id": "c269980c",
   "metadata": {},
   "outputs": [],
   "source": [
    "import pandas as pd\n",
    "import numpy as np\n",
    "import os\n",
    "import warnings\n",
    "warnings.filterwarnings(\"ignore\")\n",
    "import matplotlib.pyplot as plt\n",
    "import seaborn as sns\n",
    "from sklearn.model_selection import train_test_split\n",
    "\n",
    "#acquire\n",
    "import acquire\n",
    "import wrangle_mall\n",
    "from env import host, username, password\n",
    "from pydataset import data"
   ]
  },
  {
   "cell_type": "markdown",
   "id": "5524cf7b",
   "metadata": {},
   "source": [
    "## Q1 \n",
    "Acquire data from the cloud database."
   ]
  },
  {
   "cell_type": "code",
   "execution_count": 2,
   "id": "67b6b3b4",
   "metadata": {},
   "outputs": [],
   "source": [
    "df = acquire.zillow_data()\n"
   ]
  },
  {
   "cell_type": "code",
   "execution_count": 3,
   "id": "3569ff3d",
   "metadata": {},
   "outputs": [],
   "source": [
    "# Cache Zillow Data\n",
    "acquire.cache_zillow_data(cached=False)\n"
   ]
  },
  {
   "cell_type": "code",
   "execution_count": 4,
   "id": "a52ccc19",
   "metadata": {},
   "outputs": [
    {
     "data": {
      "text/plain": [
       "(0, 0)"
      ]
     },
     "execution_count": 4,
     "metadata": {},
     "output_type": "execute_result"
    }
   ],
   "source": [
    "# control check to see if any null in longitiude and latitude\n",
    "df.latitude.isnull().sum(), df.longitude.isnull().sum()\n"
   ]
  },
  {
   "cell_type": "code",
   "execution_count": 5,
   "id": "55b767f2",
   "metadata": {},
   "outputs": [
    {
     "data": {
      "text/plain": [
       "(77580, 69)"
      ]
     },
     "execution_count": 5,
     "metadata": {},
     "output_type": "execute_result"
    }
   ],
   "source": [
    "# control: shape\n",
    "df.shape"
   ]
  },
  {
   "cell_type": "code",
   "execution_count": 6,
   "id": "e2a02470",
   "metadata": {},
   "outputs": [],
   "source": [
    "# filter out by latest transactiondate\n",
    "df = df.sort_values('transactiondate').drop_duplicates('parcelid',keep='last')\n"
   ]
  },
  {
   "cell_type": "code",
   "execution_count": 7,
   "id": "03297e48",
   "metadata": {},
   "outputs": [
    {
     "data": {
      "text/plain": [
       "(77381, 69)"
      ]
     },
     "execution_count": 7,
     "metadata": {},
     "output_type": "execute_result"
    }
   ],
   "source": [
    "# control: check to see if shape changed (dropped 199 duplicated transactions)\n",
    "df.shape\n"
   ]
  },
  {
   "cell_type": "markdown",
   "id": "a9194ef8",
   "metadata": {},
   "source": [
    "## Q2) \n",
    "Summarize your data (summary stats, info, dtypes, shape, distributions, value_counts, etc.)\n",
    "\n"
   ]
  },
  {
   "cell_type": "code",
   "execution_count": 8,
   "id": "324cd059",
   "metadata": {},
   "outputs": [
    {
     "data": {
      "text/html": [
       "<div>\n",
       "<style scoped>\n",
       "    .dataframe tbody tr th:only-of-type {\n",
       "        vertical-align: middle;\n",
       "    }\n",
       "\n",
       "    .dataframe tbody tr th {\n",
       "        vertical-align: top;\n",
       "    }\n",
       "\n",
       "    .dataframe thead th {\n",
       "        text-align: right;\n",
       "    }\n",
       "</style>\n",
       "<table border=\"1\" class=\"dataframe\">\n",
       "  <thead>\n",
       "    <tr style=\"text-align: right;\">\n",
       "      <th></th>\n",
       "      <th>count</th>\n",
       "      <th>mean</th>\n",
       "      <th>std</th>\n",
       "      <th>min</th>\n",
       "      <th>25%</th>\n",
       "      <th>50%</th>\n",
       "      <th>75%</th>\n",
       "      <th>max</th>\n",
       "    </tr>\n",
       "  </thead>\n",
       "  <tbody>\n",
       "    <tr>\n",
       "      <th>typeconstructiontypeid</th>\n",
       "      <td>222.0</td>\n",
       "      <td>6.040541e+00</td>\n",
       "      <td>5.572847e-01</td>\n",
       "      <td>4.000000e+00</td>\n",
       "      <td>6.000000e+00</td>\n",
       "      <td>6.000000e+00</td>\n",
       "      <td>6.000000e+00</td>\n",
       "      <td>1.300000e+01</td>\n",
       "    </tr>\n",
       "    <tr>\n",
       "      <th>storytypeid</th>\n",
       "      <td>50.0</td>\n",
       "      <td>7.000000e+00</td>\n",
       "      <td>0.000000e+00</td>\n",
       "      <td>7.000000e+00</td>\n",
       "      <td>7.000000e+00</td>\n",
       "      <td>7.000000e+00</td>\n",
       "      <td>7.000000e+00</td>\n",
       "      <td>7.000000e+00</td>\n",
       "    </tr>\n",
       "    <tr>\n",
       "      <th>propertylandusetypeid</th>\n",
       "      <td>77381.0</td>\n",
       "      <td>2.618263e+02</td>\n",
       "      <td>5.141199e+00</td>\n",
       "      <td>3.100000e+01</td>\n",
       "      <td>2.610000e+02</td>\n",
       "      <td>2.610000e+02</td>\n",
       "      <td>2.660000e+02</td>\n",
       "      <td>2.750000e+02</td>\n",
       "    </tr>\n",
       "    <tr>\n",
       "      <th>heatingorsystemtypeid</th>\n",
       "      <td>49440.0</td>\n",
       "      <td>3.920510e+00</td>\n",
       "      <td>3.592779e+00</td>\n",
       "      <td>1.000000e+00</td>\n",
       "      <td>2.000000e+00</td>\n",
       "      <td>2.000000e+00</td>\n",
       "      <td>7.000000e+00</td>\n",
       "      <td>2.400000e+01</td>\n",
       "    </tr>\n",
       "    <tr>\n",
       "      <th>buildingclasstypeid</th>\n",
       "      <td>15.0</td>\n",
       "      <td>3.933333e+00</td>\n",
       "      <td>2.581989e-01</td>\n",
       "      <td>3.000000e+00</td>\n",
       "      <td>4.000000e+00</td>\n",
       "      <td>4.000000e+00</td>\n",
       "      <td>4.000000e+00</td>\n",
       "      <td>4.000000e+00</td>\n",
       "    </tr>\n",
       "    <tr>\n",
       "      <th>architecturalstyletypeid</th>\n",
       "      <td>206.0</td>\n",
       "      <td>7.388350e+00</td>\n",
       "      <td>2.734542e+00</td>\n",
       "      <td>2.000000e+00</td>\n",
       "      <td>7.000000e+00</td>\n",
       "      <td>7.000000e+00</td>\n",
       "      <td>7.000000e+00</td>\n",
       "      <td>2.100000e+01</td>\n",
       "    </tr>\n",
       "    <tr>\n",
       "      <th>airconditioningtypeid</th>\n",
       "      <td>24953.0</td>\n",
       "      <td>1.813289e+00</td>\n",
       "      <td>2.967894e+00</td>\n",
       "      <td>1.000000e+00</td>\n",
       "      <td>1.000000e+00</td>\n",
       "      <td>1.000000e+00</td>\n",
       "      <td>1.000000e+00</td>\n",
       "      <td>1.300000e+01</td>\n",
       "    </tr>\n",
       "    <tr>\n",
       "      <th>parcelid</th>\n",
       "      <td>77381.0</td>\n",
       "      <td>1.300715e+07</td>\n",
       "      <td>3.481346e+06</td>\n",
       "      <td>1.071186e+07</td>\n",
       "      <td>1.153830e+07</td>\n",
       "      <td>1.253157e+07</td>\n",
       "      <td>1.421183e+07</td>\n",
       "      <td>1.676893e+08</td>\n",
       "    </tr>\n",
       "    <tr>\n",
       "      <th>id</th>\n",
       "      <td>77381.0</td>\n",
       "      <td>3.884869e+04</td>\n",
       "      <td>2.240243e+04</td>\n",
       "      <td>0.000000e+00</td>\n",
       "      <td>1.946100e+04</td>\n",
       "      <td>3.887000e+04</td>\n",
       "      <td>5.825300e+04</td>\n",
       "      <td>7.761300e+04</td>\n",
       "    </tr>\n",
       "    <tr>\n",
       "      <th>logerror</th>\n",
       "      <td>77381.0</td>\n",
       "      <td>1.662499e-02</td>\n",
       "      <td>1.701908e-01</td>\n",
       "      <td>-4.655420e+00</td>\n",
       "      <td>-2.437679e-02</td>\n",
       "      <td>6.626972e-03</td>\n",
       "      <td>3.920313e-02</td>\n",
       "      <td>5.262999e+00</td>\n",
       "    </tr>\n",
       "    <tr>\n",
       "      <th>id</th>\n",
       "      <td>77381.0</td>\n",
       "      <td>1.495139e+06</td>\n",
       "      <td>8.609071e+05</td>\n",
       "      <td>3.490000e+02</td>\n",
       "      <td>7.520700e+05</td>\n",
       "      <td>1.497932e+06</td>\n",
       "      <td>2.240535e+06</td>\n",
       "      <td>2.982274e+06</td>\n",
       "    </tr>\n",
       "    <tr>\n",
       "      <th>basementsqft</th>\n",
       "      <td>50.0</td>\n",
       "      <td>6.797200e+02</td>\n",
       "      <td>6.897035e+02</td>\n",
       "      <td>3.800000e+01</td>\n",
       "      <td>2.730000e+02</td>\n",
       "      <td>5.150000e+02</td>\n",
       "      <td>7.965000e+02</td>\n",
       "      <td>3.560000e+03</td>\n",
       "    </tr>\n",
       "    <tr>\n",
       "      <th>bathroomcnt</th>\n",
       "      <td>77381.0</td>\n",
       "      <td>2.299130e+00</td>\n",
       "      <td>9.966507e-01</td>\n",
       "      <td>0.000000e+00</td>\n",
       "      <td>2.000000e+00</td>\n",
       "      <td>2.000000e+00</td>\n",
       "      <td>3.000000e+00</td>\n",
       "      <td>1.800000e+01</td>\n",
       "    </tr>\n",
       "    <tr>\n",
       "      <th>bedroomcnt</th>\n",
       "      <td>77381.0</td>\n",
       "      <td>3.053489e+00</td>\n",
       "      <td>1.139096e+00</td>\n",
       "      <td>0.000000e+00</td>\n",
       "      <td>2.000000e+00</td>\n",
       "      <td>3.000000e+00</td>\n",
       "      <td>4.000000e+00</td>\n",
       "      <td>1.600000e+01</td>\n",
       "    </tr>\n",
       "    <tr>\n",
       "      <th>buildingqualitytypeid</th>\n",
       "      <td>49672.0</td>\n",
       "      <td>6.534587e+00</td>\n",
       "      <td>1.721953e+00</td>\n",
       "      <td>1.000000e+00</td>\n",
       "      <td>6.000000e+00</td>\n",
       "      <td>6.000000e+00</td>\n",
       "      <td>8.000000e+00</td>\n",
       "      <td>1.200000e+01</td>\n",
       "    </tr>\n",
       "    <tr>\n",
       "      <th>calculatedbathnbr</th>\n",
       "      <td>76772.0</td>\n",
       "      <td>2.316867e+00</td>\n",
       "      <td>9.797549e-01</td>\n",
       "      <td>1.000000e+00</td>\n",
       "      <td>2.000000e+00</td>\n",
       "      <td>2.000000e+00</td>\n",
       "      <td>3.000000e+00</td>\n",
       "      <td>1.800000e+01</td>\n",
       "    </tr>\n",
       "    <tr>\n",
       "      <th>decktypeid</th>\n",
       "      <td>614.0</td>\n",
       "      <td>6.600000e+01</td>\n",
       "      <td>0.000000e+00</td>\n",
       "      <td>6.600000e+01</td>\n",
       "      <td>6.600000e+01</td>\n",
       "      <td>6.600000e+01</td>\n",
       "      <td>6.600000e+01</td>\n",
       "      <td>6.600000e+01</td>\n",
       "    </tr>\n",
       "    <tr>\n",
       "      <th>finishedfloor1squarefeet</th>\n",
       "      <td>6023.0</td>\n",
       "      <td>1.366513e+03</td>\n",
       "      <td>6.713081e+02</td>\n",
       "      <td>4.400000e+01</td>\n",
       "      <td>9.550000e+02</td>\n",
       "      <td>1.257000e+03</td>\n",
       "      <td>1.615000e+03</td>\n",
       "      <td>6.912000e+03</td>\n",
       "    </tr>\n",
       "    <tr>\n",
       "      <th>calculatedfinishedsquarefeet</th>\n",
       "      <td>77185.0</td>\n",
       "      <td>1.785220e+03</td>\n",
       "      <td>9.540493e+02</td>\n",
       "      <td>1.280000e+02</td>\n",
       "      <td>1.182000e+03</td>\n",
       "      <td>1.543000e+03</td>\n",
       "      <td>2.113000e+03</td>\n",
       "      <td>3.564000e+04</td>\n",
       "    </tr>\n",
       "    <tr>\n",
       "      <th>finishedsquarefeet12</th>\n",
       "      <td>73749.0</td>\n",
       "      <td>1.760523e+03</td>\n",
       "      <td>9.340243e+02</td>\n",
       "      <td>1.280000e+02</td>\n",
       "      <td>1.172000e+03</td>\n",
       "      <td>1.523000e+03</td>\n",
       "      <td>2.076000e+03</td>\n",
       "      <td>2.192900e+04</td>\n",
       "    </tr>\n",
       "    <tr>\n",
       "      <th>finishedsquarefeet13</th>\n",
       "      <td>41.0</td>\n",
       "      <td>1.389854e+03</td>\n",
       "      <td>1.235317e+02</td>\n",
       "      <td>1.056000e+03</td>\n",
       "      <td>1.344000e+03</td>\n",
       "      <td>1.440000e+03</td>\n",
       "      <td>1.440000e+03</td>\n",
       "      <td>1.560000e+03</td>\n",
       "    </tr>\n",
       "    <tr>\n",
       "      <th>finishedsquarefeet15</th>\n",
       "      <td>3009.0</td>\n",
       "      <td>2.357792e+03</td>\n",
       "      <td>1.188775e+03</td>\n",
       "      <td>5.980000e+02</td>\n",
       "      <td>1.625000e+03</td>\n",
       "      <td>2.094000e+03</td>\n",
       "      <td>2.838000e+03</td>\n",
       "      <td>3.564000e+04</td>\n",
       "    </tr>\n",
       "    <tr>\n",
       "      <th>finishedsquarefeet50</th>\n",
       "      <td>6023.0</td>\n",
       "      <td>1.381772e+03</td>\n",
       "      <td>7.264689e+02</td>\n",
       "      <td>4.400000e+01</td>\n",
       "      <td>9.560000e+02</td>\n",
       "      <td>1.259000e+03</td>\n",
       "      <td>1.621500e+03</td>\n",
       "      <td>1.246700e+04</td>\n",
       "    </tr>\n",
       "    <tr>\n",
       "      <th>finishedsquarefeet6</th>\n",
       "      <td>386.0</td>\n",
       "      <td>2.082500e+03</td>\n",
       "      <td>1.240383e+03</td>\n",
       "      <td>3.800000e+02</td>\n",
       "      <td>9.937500e+02</td>\n",
       "      <td>1.812500e+03</td>\n",
       "      <td>3.053500e+03</td>\n",
       "      <td>5.598000e+03</td>\n",
       "    </tr>\n",
       "    <tr>\n",
       "      <th>fips</th>\n",
       "      <td>77381.0</td>\n",
       "      <td>6.048819e+03</td>\n",
       "      <td>2.074820e+01</td>\n",
       "      <td>6.037000e+03</td>\n",
       "      <td>6.037000e+03</td>\n",
       "      <td>6.037000e+03</td>\n",
       "      <td>6.059000e+03</td>\n",
       "      <td>6.111000e+03</td>\n",
       "    </tr>\n",
       "    <tr>\n",
       "      <th>fireplacecnt</th>\n",
       "      <td>8276.0</td>\n",
       "      <td>1.191155e+00</td>\n",
       "      <td>4.910796e-01</td>\n",
       "      <td>1.000000e+00</td>\n",
       "      <td>1.000000e+00</td>\n",
       "      <td>1.000000e+00</td>\n",
       "      <td>1.000000e+00</td>\n",
       "      <td>5.000000e+00</td>\n",
       "    </tr>\n",
       "    <tr>\n",
       "      <th>fullbathcnt</th>\n",
       "      <td>76772.0</td>\n",
       "      <td>2.250482e+00</td>\n",
       "      <td>9.665521e-01</td>\n",
       "      <td>1.000000e+00</td>\n",
       "      <td>2.000000e+00</td>\n",
       "      <td>2.000000e+00</td>\n",
       "      <td>3.000000e+00</td>\n",
       "      <td>1.800000e+01</td>\n",
       "    </tr>\n",
       "    <tr>\n",
       "      <th>garagecarcnt</th>\n",
       "      <td>25474.0</td>\n",
       "      <td>1.815459e+00</td>\n",
       "      <td>5.883449e-01</td>\n",
       "      <td>0.000000e+00</td>\n",
       "      <td>2.000000e+00</td>\n",
       "      <td>2.000000e+00</td>\n",
       "      <td>2.000000e+00</td>\n",
       "      <td>1.400000e+01</td>\n",
       "    </tr>\n",
       "    <tr>\n",
       "      <th>garagetotalsqft</th>\n",
       "      <td>25474.0</td>\n",
       "      <td>3.501120e+02</td>\n",
       "      <td>2.616816e+02</td>\n",
       "      <td>0.000000e+00</td>\n",
       "      <td>0.000000e+00</td>\n",
       "      <td>4.360000e+02</td>\n",
       "      <td>4.930000e+02</td>\n",
       "      <td>4.251000e+03</td>\n",
       "    </tr>\n",
       "    <tr>\n",
       "      <th>hashottuborspa</th>\n",
       "      <td>1538.0</td>\n",
       "      <td>1.000000e+00</td>\n",
       "      <td>0.000000e+00</td>\n",
       "      <td>1.000000e+00</td>\n",
       "      <td>1.000000e+00</td>\n",
       "      <td>1.000000e+00</td>\n",
       "      <td>1.000000e+00</td>\n",
       "      <td>1.000000e+00</td>\n",
       "    </tr>\n",
       "    <tr>\n",
       "      <th>latitude</th>\n",
       "      <td>77381.0</td>\n",
       "      <td>3.400837e+07</td>\n",
       "      <td>2.653888e+05</td>\n",
       "      <td>3.333953e+07</td>\n",
       "      <td>3.381457e+07</td>\n",
       "      <td>3.402200e+07</td>\n",
       "      <td>3.417439e+07</td>\n",
       "      <td>3.481877e+07</td>\n",
       "    </tr>\n",
       "    <tr>\n",
       "      <th>longitude</th>\n",
       "      <td>77381.0</td>\n",
       "      <td>-1.182036e+08</td>\n",
       "      <td>3.594826e+05</td>\n",
       "      <td>-1.194754e+08</td>\n",
       "      <td>-1.184153e+08</td>\n",
       "      <td>-1.181808e+08</td>\n",
       "      <td>-1.179284e+08</td>\n",
       "      <td>-1.175546e+08</td>\n",
       "    </tr>\n",
       "    <tr>\n",
       "      <th>lotsizesquarefeet</th>\n",
       "      <td>69142.0</td>\n",
       "      <td>2.996928e+04</td>\n",
       "      <td>1.233711e+05</td>\n",
       "      <td>2.360000e+02</td>\n",
       "      <td>5.700000e+03</td>\n",
       "      <td>7.206000e+03</td>\n",
       "      <td>1.183100e+04</td>\n",
       "      <td>6.971010e+06</td>\n",
       "    </tr>\n",
       "    <tr>\n",
       "      <th>poolcnt</th>\n",
       "      <td>16137.0</td>\n",
       "      <td>1.000000e+00</td>\n",
       "      <td>0.000000e+00</td>\n",
       "      <td>1.000000e+00</td>\n",
       "      <td>1.000000e+00</td>\n",
       "      <td>1.000000e+00</td>\n",
       "      <td>1.000000e+00</td>\n",
       "      <td>1.000000e+00</td>\n",
       "    </tr>\n",
       "    <tr>\n",
       "      <th>poolsizesum</th>\n",
       "      <td>867.0</td>\n",
       "      <td>5.179170e+02</td>\n",
       "      <td>1.567160e+02</td>\n",
       "      <td>2.400000e+01</td>\n",
       "      <td>4.240000e+02</td>\n",
       "      <td>5.000000e+02</td>\n",
       "      <td>6.000000e+02</td>\n",
       "      <td>1.500000e+03</td>\n",
       "    </tr>\n",
       "    <tr>\n",
       "      <th>pooltypeid10</th>\n",
       "      <td>464.0</td>\n",
       "      <td>1.000000e+00</td>\n",
       "      <td>0.000000e+00</td>\n",
       "      <td>1.000000e+00</td>\n",
       "      <td>1.000000e+00</td>\n",
       "      <td>1.000000e+00</td>\n",
       "      <td>1.000000e+00</td>\n",
       "      <td>1.000000e+00</td>\n",
       "    </tr>\n",
       "    <tr>\n",
       "      <th>pooltypeid2</th>\n",
       "      <td>1074.0</td>\n",
       "      <td>1.000000e+00</td>\n",
       "      <td>0.000000e+00</td>\n",
       "      <td>1.000000e+00</td>\n",
       "      <td>1.000000e+00</td>\n",
       "      <td>1.000000e+00</td>\n",
       "      <td>1.000000e+00</td>\n",
       "      <td>1.000000e+00</td>\n",
       "    </tr>\n",
       "    <tr>\n",
       "      <th>pooltypeid7</th>\n",
       "      <td>15042.0</td>\n",
       "      <td>1.000000e+00</td>\n",
       "      <td>0.000000e+00</td>\n",
       "      <td>1.000000e+00</td>\n",
       "      <td>1.000000e+00</td>\n",
       "      <td>1.000000e+00</td>\n",
       "      <td>1.000000e+00</td>\n",
       "      <td>1.000000e+00</td>\n",
       "    </tr>\n",
       "    <tr>\n",
       "      <th>rawcensustractandblock</th>\n",
       "      <td>77381.0</td>\n",
       "      <td>6.049129e+07</td>\n",
       "      <td>2.059052e+05</td>\n",
       "      <td>6.037101e+07</td>\n",
       "      <td>6.037311e+07</td>\n",
       "      <td>6.037603e+07</td>\n",
       "      <td>6.059042e+07</td>\n",
       "      <td>6.111009e+07</td>\n",
       "    </tr>\n",
       "    <tr>\n",
       "      <th>regionidcity</th>\n",
       "      <td>75910.0</td>\n",
       "      <td>3.367124e+04</td>\n",
       "      <td>4.716982e+04</td>\n",
       "      <td>3.491000e+03</td>\n",
       "      <td>1.244700e+04</td>\n",
       "      <td>2.521800e+04</td>\n",
       "      <td>4.545700e+04</td>\n",
       "      <td>3.965560e+05</td>\n",
       "    </tr>\n",
       "    <tr>\n",
       "      <th>regionidcounty</th>\n",
       "      <td>77381.0</td>\n",
       "      <td>2.534158e+03</td>\n",
       "      <td>8.015934e+02</td>\n",
       "      <td>1.286000e+03</td>\n",
       "      <td>1.286000e+03</td>\n",
       "      <td>3.101000e+03</td>\n",
       "      <td>3.101000e+03</td>\n",
       "      <td>3.101000e+03</td>\n",
       "    </tr>\n",
       "    <tr>\n",
       "      <th>regionidneighborhood</th>\n",
       "      <td>30890.0</td>\n",
       "      <td>1.877349e+05</td>\n",
       "      <td>1.651188e+05</td>\n",
       "      <td>6.952000e+03</td>\n",
       "      <td>4.673600e+04</td>\n",
       "      <td>1.188490e+05</td>\n",
       "      <td>2.747650e+05</td>\n",
       "      <td>7.641670e+05</td>\n",
       "    </tr>\n",
       "    <tr>\n",
       "      <th>regionidzip</th>\n",
       "      <td>77331.0</td>\n",
       "      <td>9.658709e+04</td>\n",
       "      <td>3.798347e+03</td>\n",
       "      <td>9.598200e+04</td>\n",
       "      <td>9.619300e+04</td>\n",
       "      <td>9.638900e+04</td>\n",
       "      <td>9.698700e+04</td>\n",
       "      <td>3.996750e+05</td>\n",
       "    </tr>\n",
       "    <tr>\n",
       "      <th>roomcnt</th>\n",
       "      <td>77381.0</td>\n",
       "      <td>1.476952e+00</td>\n",
       "      <td>2.824386e+00</td>\n",
       "      <td>0.000000e+00</td>\n",
       "      <td>0.000000e+00</td>\n",
       "      <td>0.000000e+00</td>\n",
       "      <td>0.000000e+00</td>\n",
       "      <td>1.500000e+01</td>\n",
       "    </tr>\n",
       "    <tr>\n",
       "      <th>threequarterbathnbr</th>\n",
       "      <td>10096.0</td>\n",
       "      <td>1.009608e+00</td>\n",
       "      <td>1.186301e-01</td>\n",
       "      <td>1.000000e+00</td>\n",
       "      <td>1.000000e+00</td>\n",
       "      <td>1.000000e+00</td>\n",
       "      <td>1.000000e+00</td>\n",
       "      <td>7.000000e+00</td>\n",
       "    </tr>\n",
       "    <tr>\n",
       "      <th>unitcnt</th>\n",
       "      <td>50563.0</td>\n",
       "      <td>1.110021e+00</td>\n",
       "      <td>1.171154e+00</td>\n",
       "      <td>1.000000e+00</td>\n",
       "      <td>1.000000e+00</td>\n",
       "      <td>1.000000e+00</td>\n",
       "      <td>1.000000e+00</td>\n",
       "      <td>2.370000e+02</td>\n",
       "    </tr>\n",
       "    <tr>\n",
       "      <th>yardbuildingsqft17</th>\n",
       "      <td>2388.0</td>\n",
       "      <td>3.054112e+02</td>\n",
       "      <td>2.383928e+02</td>\n",
       "      <td>1.100000e+01</td>\n",
       "      <td>1.700000e+02</td>\n",
       "      <td>2.510000e+02</td>\n",
       "      <td>3.640000e+02</td>\n",
       "      <td>3.191000e+03</td>\n",
       "    </tr>\n",
       "    <tr>\n",
       "      <th>yardbuildingsqft26</th>\n",
       "      <td>70.0</td>\n",
       "      <td>2.163857e+02</td>\n",
       "      <td>1.901775e+02</td>\n",
       "      <td>1.200000e+01</td>\n",
       "      <td>6.150000e+01</td>\n",
       "      <td>1.645000e+02</td>\n",
       "      <td>3.105000e+02</td>\n",
       "      <td>8.680000e+02</td>\n",
       "    </tr>\n",
       "    <tr>\n",
       "      <th>yearbuilt</th>\n",
       "      <td>77118.0</td>\n",
       "      <td>1.968636e+03</td>\n",
       "      <td>2.378603e+01</td>\n",
       "      <td>1.824000e+03</td>\n",
       "      <td>1.953000e+03</td>\n",
       "      <td>1.970000e+03</td>\n",
       "      <td>1.987000e+03</td>\n",
       "      <td>2.016000e+03</td>\n",
       "    </tr>\n",
       "    <tr>\n",
       "      <th>numberofstories</th>\n",
       "      <td>17560.0</td>\n",
       "      <td>1.434738e+00</td>\n",
       "      <td>5.445687e-01</td>\n",
       "      <td>1.000000e+00</td>\n",
       "      <td>1.000000e+00</td>\n",
       "      <td>1.000000e+00</td>\n",
       "      <td>2.000000e+00</td>\n",
       "      <td>6.000000e+00</td>\n",
       "    </tr>\n",
       "    <tr>\n",
       "      <th>fireplaceflag</th>\n",
       "      <td>172.0</td>\n",
       "      <td>1.000000e+00</td>\n",
       "      <td>0.000000e+00</td>\n",
       "      <td>1.000000e+00</td>\n",
       "      <td>1.000000e+00</td>\n",
       "      <td>1.000000e+00</td>\n",
       "      <td>1.000000e+00</td>\n",
       "      <td>1.000000e+00</td>\n",
       "    </tr>\n",
       "    <tr>\n",
       "      <th>structuretaxvaluedollarcnt</th>\n",
       "      <td>77269.0</td>\n",
       "      <td>1.893145e+05</td>\n",
       "      <td>2.300874e+05</td>\n",
       "      <td>4.400000e+01</td>\n",
       "      <td>8.426500e+04</td>\n",
       "      <td>1.364990e+05</td>\n",
       "      <td>2.187870e+05</td>\n",
       "      <td>1.142179e+07</td>\n",
       "    </tr>\n",
       "    <tr>\n",
       "      <th>taxvaluedollarcnt</th>\n",
       "      <td>77380.0</td>\n",
       "      <td>4.901345e+05</td>\n",
       "      <td>6.534440e+05</td>\n",
       "      <td>1.000000e+03</td>\n",
       "      <td>2.070000e+05</td>\n",
       "      <td>3.589755e+05</td>\n",
       "      <td>5.690015e+05</td>\n",
       "      <td>4.906124e+07</td>\n",
       "    </tr>\n",
       "    <tr>\n",
       "      <th>assessmentyear</th>\n",
       "      <td>77381.0</td>\n",
       "      <td>2.016000e+03</td>\n",
       "      <td>0.000000e+00</td>\n",
       "      <td>2.016000e+03</td>\n",
       "      <td>2.016000e+03</td>\n",
       "      <td>2.016000e+03</td>\n",
       "      <td>2.016000e+03</td>\n",
       "      <td>2.016000e+03</td>\n",
       "    </tr>\n",
       "    <tr>\n",
       "      <th>landtaxvaluedollarcnt</th>\n",
       "      <td>77379.0</td>\n",
       "      <td>3.010954e+05</td>\n",
       "      <td>4.925960e+05</td>\n",
       "      <td>1.610000e+02</td>\n",
       "      <td>8.550400e+04</td>\n",
       "      <td>2.033720e+05</td>\n",
       "      <td>3.667965e+05</td>\n",
       "      <td>4.895220e+07</td>\n",
       "    </tr>\n",
       "    <tr>\n",
       "      <th>taxamount</th>\n",
       "      <td>77376.0</td>\n",
       "      <td>5.995532e+03</td>\n",
       "      <td>7.622844e+03</td>\n",
       "      <td>1.992000e+01</td>\n",
       "      <td>2.715632e+03</td>\n",
       "      <td>4.450695e+03</td>\n",
       "      <td>6.927790e+03</td>\n",
       "      <td>5.866393e+05</td>\n",
       "    </tr>\n",
       "    <tr>\n",
       "      <th>taxdelinquencyyear</th>\n",
       "      <td>2886.0</td>\n",
       "      <td>1.408732e+01</td>\n",
       "      <td>2.185663e+00</td>\n",
       "      <td>3.000000e+00</td>\n",
       "      <td>1.400000e+01</td>\n",
       "      <td>1.500000e+01</td>\n",
       "      <td>1.500000e+01</td>\n",
       "      <td>9.900000e+01</td>\n",
       "    </tr>\n",
       "    <tr>\n",
       "      <th>censustractandblock</th>\n",
       "      <td>77137.0</td>\n",
       "      <td>6.049673e+13</td>\n",
       "      <td>1.535242e+12</td>\n",
       "      <td>6.037101e+13</td>\n",
       "      <td>6.037311e+13</td>\n",
       "      <td>6.037603e+13</td>\n",
       "      <td>6.059042e+13</td>\n",
       "      <td>4.830301e+14</td>\n",
       "    </tr>\n",
       "  </tbody>\n",
       "</table>\n",
       "</div>"
      ],
      "text/plain": [
       "                                count          mean           std  \\\n",
       "typeconstructiontypeid          222.0  6.040541e+00  5.572847e-01   \n",
       "storytypeid                      50.0  7.000000e+00  0.000000e+00   \n",
       "propertylandusetypeid         77381.0  2.618263e+02  5.141199e+00   \n",
       "heatingorsystemtypeid         49440.0  3.920510e+00  3.592779e+00   \n",
       "buildingclasstypeid              15.0  3.933333e+00  2.581989e-01   \n",
       "architecturalstyletypeid        206.0  7.388350e+00  2.734542e+00   \n",
       "airconditioningtypeid         24953.0  1.813289e+00  2.967894e+00   \n",
       "parcelid                      77381.0  1.300715e+07  3.481346e+06   \n",
       "id                            77381.0  3.884869e+04  2.240243e+04   \n",
       "logerror                      77381.0  1.662499e-02  1.701908e-01   \n",
       "id                            77381.0  1.495139e+06  8.609071e+05   \n",
       "basementsqft                     50.0  6.797200e+02  6.897035e+02   \n",
       "bathroomcnt                   77381.0  2.299130e+00  9.966507e-01   \n",
       "bedroomcnt                    77381.0  3.053489e+00  1.139096e+00   \n",
       "buildingqualitytypeid         49672.0  6.534587e+00  1.721953e+00   \n",
       "calculatedbathnbr             76772.0  2.316867e+00  9.797549e-01   \n",
       "decktypeid                      614.0  6.600000e+01  0.000000e+00   \n",
       "finishedfloor1squarefeet       6023.0  1.366513e+03  6.713081e+02   \n",
       "calculatedfinishedsquarefeet  77185.0  1.785220e+03  9.540493e+02   \n",
       "finishedsquarefeet12          73749.0  1.760523e+03  9.340243e+02   \n",
       "finishedsquarefeet13             41.0  1.389854e+03  1.235317e+02   \n",
       "finishedsquarefeet15           3009.0  2.357792e+03  1.188775e+03   \n",
       "finishedsquarefeet50           6023.0  1.381772e+03  7.264689e+02   \n",
       "finishedsquarefeet6             386.0  2.082500e+03  1.240383e+03   \n",
       "fips                          77381.0  6.048819e+03  2.074820e+01   \n",
       "fireplacecnt                   8276.0  1.191155e+00  4.910796e-01   \n",
       "fullbathcnt                   76772.0  2.250482e+00  9.665521e-01   \n",
       "garagecarcnt                  25474.0  1.815459e+00  5.883449e-01   \n",
       "garagetotalsqft               25474.0  3.501120e+02  2.616816e+02   \n",
       "hashottuborspa                 1538.0  1.000000e+00  0.000000e+00   \n",
       "latitude                      77381.0  3.400837e+07  2.653888e+05   \n",
       "longitude                     77381.0 -1.182036e+08  3.594826e+05   \n",
       "lotsizesquarefeet             69142.0  2.996928e+04  1.233711e+05   \n",
       "poolcnt                       16137.0  1.000000e+00  0.000000e+00   \n",
       "poolsizesum                     867.0  5.179170e+02  1.567160e+02   \n",
       "pooltypeid10                    464.0  1.000000e+00  0.000000e+00   \n",
       "pooltypeid2                    1074.0  1.000000e+00  0.000000e+00   \n",
       "pooltypeid7                   15042.0  1.000000e+00  0.000000e+00   \n",
       "rawcensustractandblock        77381.0  6.049129e+07  2.059052e+05   \n",
       "regionidcity                  75910.0  3.367124e+04  4.716982e+04   \n",
       "regionidcounty                77381.0  2.534158e+03  8.015934e+02   \n",
       "regionidneighborhood          30890.0  1.877349e+05  1.651188e+05   \n",
       "regionidzip                   77331.0  9.658709e+04  3.798347e+03   \n",
       "roomcnt                       77381.0  1.476952e+00  2.824386e+00   \n",
       "threequarterbathnbr           10096.0  1.009608e+00  1.186301e-01   \n",
       "unitcnt                       50563.0  1.110021e+00  1.171154e+00   \n",
       "yardbuildingsqft17             2388.0  3.054112e+02  2.383928e+02   \n",
       "yardbuildingsqft26               70.0  2.163857e+02  1.901775e+02   \n",
       "yearbuilt                     77118.0  1.968636e+03  2.378603e+01   \n",
       "numberofstories               17560.0  1.434738e+00  5.445687e-01   \n",
       "fireplaceflag                   172.0  1.000000e+00  0.000000e+00   \n",
       "structuretaxvaluedollarcnt    77269.0  1.893145e+05  2.300874e+05   \n",
       "taxvaluedollarcnt             77380.0  4.901345e+05  6.534440e+05   \n",
       "assessmentyear                77381.0  2.016000e+03  0.000000e+00   \n",
       "landtaxvaluedollarcnt         77379.0  3.010954e+05  4.925960e+05   \n",
       "taxamount                     77376.0  5.995532e+03  7.622844e+03   \n",
       "taxdelinquencyyear             2886.0  1.408732e+01  2.185663e+00   \n",
       "censustractandblock           77137.0  6.049673e+13  1.535242e+12   \n",
       "\n",
       "                                       min           25%           50%  \\\n",
       "typeconstructiontypeid        4.000000e+00  6.000000e+00  6.000000e+00   \n",
       "storytypeid                   7.000000e+00  7.000000e+00  7.000000e+00   \n",
       "propertylandusetypeid         3.100000e+01  2.610000e+02  2.610000e+02   \n",
       "heatingorsystemtypeid         1.000000e+00  2.000000e+00  2.000000e+00   \n",
       "buildingclasstypeid           3.000000e+00  4.000000e+00  4.000000e+00   \n",
       "architecturalstyletypeid      2.000000e+00  7.000000e+00  7.000000e+00   \n",
       "airconditioningtypeid         1.000000e+00  1.000000e+00  1.000000e+00   \n",
       "parcelid                      1.071186e+07  1.153830e+07  1.253157e+07   \n",
       "id                            0.000000e+00  1.946100e+04  3.887000e+04   \n",
       "logerror                     -4.655420e+00 -2.437679e-02  6.626972e-03   \n",
       "id                            3.490000e+02  7.520700e+05  1.497932e+06   \n",
       "basementsqft                  3.800000e+01  2.730000e+02  5.150000e+02   \n",
       "bathroomcnt                   0.000000e+00  2.000000e+00  2.000000e+00   \n",
       "bedroomcnt                    0.000000e+00  2.000000e+00  3.000000e+00   \n",
       "buildingqualitytypeid         1.000000e+00  6.000000e+00  6.000000e+00   \n",
       "calculatedbathnbr             1.000000e+00  2.000000e+00  2.000000e+00   \n",
       "decktypeid                    6.600000e+01  6.600000e+01  6.600000e+01   \n",
       "finishedfloor1squarefeet      4.400000e+01  9.550000e+02  1.257000e+03   \n",
       "calculatedfinishedsquarefeet  1.280000e+02  1.182000e+03  1.543000e+03   \n",
       "finishedsquarefeet12          1.280000e+02  1.172000e+03  1.523000e+03   \n",
       "finishedsquarefeet13          1.056000e+03  1.344000e+03  1.440000e+03   \n",
       "finishedsquarefeet15          5.980000e+02  1.625000e+03  2.094000e+03   \n",
       "finishedsquarefeet50          4.400000e+01  9.560000e+02  1.259000e+03   \n",
       "finishedsquarefeet6           3.800000e+02  9.937500e+02  1.812500e+03   \n",
       "fips                          6.037000e+03  6.037000e+03  6.037000e+03   \n",
       "fireplacecnt                  1.000000e+00  1.000000e+00  1.000000e+00   \n",
       "fullbathcnt                   1.000000e+00  2.000000e+00  2.000000e+00   \n",
       "garagecarcnt                  0.000000e+00  2.000000e+00  2.000000e+00   \n",
       "garagetotalsqft               0.000000e+00  0.000000e+00  4.360000e+02   \n",
       "hashottuborspa                1.000000e+00  1.000000e+00  1.000000e+00   \n",
       "latitude                      3.333953e+07  3.381457e+07  3.402200e+07   \n",
       "longitude                    -1.194754e+08 -1.184153e+08 -1.181808e+08   \n",
       "lotsizesquarefeet             2.360000e+02  5.700000e+03  7.206000e+03   \n",
       "poolcnt                       1.000000e+00  1.000000e+00  1.000000e+00   \n",
       "poolsizesum                   2.400000e+01  4.240000e+02  5.000000e+02   \n",
       "pooltypeid10                  1.000000e+00  1.000000e+00  1.000000e+00   \n",
       "pooltypeid2                   1.000000e+00  1.000000e+00  1.000000e+00   \n",
       "pooltypeid7                   1.000000e+00  1.000000e+00  1.000000e+00   \n",
       "rawcensustractandblock        6.037101e+07  6.037311e+07  6.037603e+07   \n",
       "regionidcity                  3.491000e+03  1.244700e+04  2.521800e+04   \n",
       "regionidcounty                1.286000e+03  1.286000e+03  3.101000e+03   \n",
       "regionidneighborhood          6.952000e+03  4.673600e+04  1.188490e+05   \n",
       "regionidzip                   9.598200e+04  9.619300e+04  9.638900e+04   \n",
       "roomcnt                       0.000000e+00  0.000000e+00  0.000000e+00   \n",
       "threequarterbathnbr           1.000000e+00  1.000000e+00  1.000000e+00   \n",
       "unitcnt                       1.000000e+00  1.000000e+00  1.000000e+00   \n",
       "yardbuildingsqft17            1.100000e+01  1.700000e+02  2.510000e+02   \n",
       "yardbuildingsqft26            1.200000e+01  6.150000e+01  1.645000e+02   \n",
       "yearbuilt                     1.824000e+03  1.953000e+03  1.970000e+03   \n",
       "numberofstories               1.000000e+00  1.000000e+00  1.000000e+00   \n",
       "fireplaceflag                 1.000000e+00  1.000000e+00  1.000000e+00   \n",
       "structuretaxvaluedollarcnt    4.400000e+01  8.426500e+04  1.364990e+05   \n",
       "taxvaluedollarcnt             1.000000e+03  2.070000e+05  3.589755e+05   \n",
       "assessmentyear                2.016000e+03  2.016000e+03  2.016000e+03   \n",
       "landtaxvaluedollarcnt         1.610000e+02  8.550400e+04  2.033720e+05   \n",
       "taxamount                     1.992000e+01  2.715632e+03  4.450695e+03   \n",
       "taxdelinquencyyear            3.000000e+00  1.400000e+01  1.500000e+01   \n",
       "censustractandblock           6.037101e+13  6.037311e+13  6.037603e+13   \n",
       "\n",
       "                                       75%           max  \n",
       "typeconstructiontypeid        6.000000e+00  1.300000e+01  \n",
       "storytypeid                   7.000000e+00  7.000000e+00  \n",
       "propertylandusetypeid         2.660000e+02  2.750000e+02  \n",
       "heatingorsystemtypeid         7.000000e+00  2.400000e+01  \n",
       "buildingclasstypeid           4.000000e+00  4.000000e+00  \n",
       "architecturalstyletypeid      7.000000e+00  2.100000e+01  \n",
       "airconditioningtypeid         1.000000e+00  1.300000e+01  \n",
       "parcelid                      1.421183e+07  1.676893e+08  \n",
       "id                            5.825300e+04  7.761300e+04  \n",
       "logerror                      3.920313e-02  5.262999e+00  \n",
       "id                            2.240535e+06  2.982274e+06  \n",
       "basementsqft                  7.965000e+02  3.560000e+03  \n",
       "bathroomcnt                   3.000000e+00  1.800000e+01  \n",
       "bedroomcnt                    4.000000e+00  1.600000e+01  \n",
       "buildingqualitytypeid         8.000000e+00  1.200000e+01  \n",
       "calculatedbathnbr             3.000000e+00  1.800000e+01  \n",
       "decktypeid                    6.600000e+01  6.600000e+01  \n",
       "finishedfloor1squarefeet      1.615000e+03  6.912000e+03  \n",
       "calculatedfinishedsquarefeet  2.113000e+03  3.564000e+04  \n",
       "finishedsquarefeet12          2.076000e+03  2.192900e+04  \n",
       "finishedsquarefeet13          1.440000e+03  1.560000e+03  \n",
       "finishedsquarefeet15          2.838000e+03  3.564000e+04  \n",
       "finishedsquarefeet50          1.621500e+03  1.246700e+04  \n",
       "finishedsquarefeet6           3.053500e+03  5.598000e+03  \n",
       "fips                          6.059000e+03  6.111000e+03  \n",
       "fireplacecnt                  1.000000e+00  5.000000e+00  \n",
       "fullbathcnt                   3.000000e+00  1.800000e+01  \n",
       "garagecarcnt                  2.000000e+00  1.400000e+01  \n",
       "garagetotalsqft               4.930000e+02  4.251000e+03  \n",
       "hashottuborspa                1.000000e+00  1.000000e+00  \n",
       "latitude                      3.417439e+07  3.481877e+07  \n",
       "longitude                    -1.179284e+08 -1.175546e+08  \n",
       "lotsizesquarefeet             1.183100e+04  6.971010e+06  \n",
       "poolcnt                       1.000000e+00  1.000000e+00  \n",
       "poolsizesum                   6.000000e+02  1.500000e+03  \n",
       "pooltypeid10                  1.000000e+00  1.000000e+00  \n",
       "pooltypeid2                   1.000000e+00  1.000000e+00  \n",
       "pooltypeid7                   1.000000e+00  1.000000e+00  \n",
       "rawcensustractandblock        6.059042e+07  6.111009e+07  \n",
       "regionidcity                  4.545700e+04  3.965560e+05  \n",
       "regionidcounty                3.101000e+03  3.101000e+03  \n",
       "regionidneighborhood          2.747650e+05  7.641670e+05  \n",
       "regionidzip                   9.698700e+04  3.996750e+05  \n",
       "roomcnt                       0.000000e+00  1.500000e+01  \n",
       "threequarterbathnbr           1.000000e+00  7.000000e+00  \n",
       "unitcnt                       1.000000e+00  2.370000e+02  \n",
       "yardbuildingsqft17            3.640000e+02  3.191000e+03  \n",
       "yardbuildingsqft26            3.105000e+02  8.680000e+02  \n",
       "yearbuilt                     1.987000e+03  2.016000e+03  \n",
       "numberofstories               2.000000e+00  6.000000e+00  \n",
       "fireplaceflag                 1.000000e+00  1.000000e+00  \n",
       "structuretaxvaluedollarcnt    2.187870e+05  1.142179e+07  \n",
       "taxvaluedollarcnt             5.690015e+05  4.906124e+07  \n",
       "assessmentyear                2.016000e+03  2.016000e+03  \n",
       "landtaxvaluedollarcnt         3.667965e+05  4.895220e+07  \n",
       "taxamount                     6.927790e+03  5.866393e+05  \n",
       "taxdelinquencyyear            1.500000e+01  9.900000e+01  \n",
       "censustractandblock           6.059042e+13  4.830301e+14  "
      ]
     },
     "execution_count": 8,
     "metadata": {},
     "output_type": "execute_result"
    }
   ],
   "source": [
    "# describe()\n",
    "df.describe().T"
   ]
  },
  {
   "cell_type": "code",
   "execution_count": 9,
   "id": "21c441cc",
   "metadata": {},
   "outputs": [
    {
     "data": {
      "text/plain": [
       "typeconstructiontypeid          float64\n",
       "storytypeid                     float64\n",
       "propertylandusetypeid           float64\n",
       "heatingorsystemtypeid           float64\n",
       "buildingclasstypeid             float64\n",
       "architecturalstyletypeid        float64\n",
       "airconditioningtypeid           float64\n",
       "parcelid                          int64\n",
       "id                                int64\n",
       "logerror                        float64\n",
       "transactiondate                  object\n",
       "id                                int64\n",
       "basementsqft                    float64\n",
       "bathroomcnt                     float64\n",
       "bedroomcnt                      float64\n",
       "buildingqualitytypeid           float64\n",
       "calculatedbathnbr               float64\n",
       "decktypeid                      float64\n",
       "finishedfloor1squarefeet        float64\n",
       "calculatedfinishedsquarefeet    float64\n",
       "finishedsquarefeet12            float64\n",
       "finishedsquarefeet13            float64\n",
       "finishedsquarefeet15            float64\n",
       "finishedsquarefeet50            float64\n",
       "finishedsquarefeet6             float64\n",
       "fips                            float64\n",
       "fireplacecnt                    float64\n",
       "fullbathcnt                     float64\n",
       "garagecarcnt                    float64\n",
       "garagetotalsqft                 float64\n",
       "hashottuborspa                  float64\n",
       "latitude                        float64\n",
       "longitude                       float64\n",
       "lotsizesquarefeet               float64\n",
       "poolcnt                         float64\n",
       "poolsizesum                     float64\n",
       "pooltypeid10                    float64\n",
       "pooltypeid2                     float64\n",
       "pooltypeid7                     float64\n",
       "propertycountylandusecode        object\n",
       "propertyzoningdesc               object\n",
       "rawcensustractandblock          float64\n",
       "regionidcity                    float64\n",
       "regionidcounty                  float64\n",
       "regionidneighborhood            float64\n",
       "regionidzip                     float64\n",
       "roomcnt                         float64\n",
       "threequarterbathnbr             float64\n",
       "unitcnt                         float64\n",
       "yardbuildingsqft17              float64\n",
       "yardbuildingsqft26              float64\n",
       "yearbuilt                       float64\n",
       "numberofstories                 float64\n",
       "fireplaceflag                   float64\n",
       "structuretaxvaluedollarcnt      float64\n",
       "taxvaluedollarcnt               float64\n",
       "assessmentyear                  float64\n",
       "landtaxvaluedollarcnt           float64\n",
       "taxamount                       float64\n",
       "taxdelinquencyflag               object\n",
       "taxdelinquencyyear              float64\n",
       "censustractandblock             float64\n",
       "airconditioningdesc              object\n",
       "architecturalstyledesc           object\n",
       "buildingclassdesc                object\n",
       "heatingorsystemdesc              object\n",
       "propertylandusedesc              object\n",
       "storydesc                        object\n",
       "typeconstructiondesc             object\n",
       "dtype: object"
      ]
     },
     "execution_count": 9,
     "metadata": {},
     "output_type": "execute_result"
    }
   ],
   "source": [
    "#dtypes\n",
    "df.dtypes"
   ]
  },
  {
   "cell_type": "code",
   "execution_count": 10,
   "id": "8da64b5d",
   "metadata": {},
   "outputs": [
    {
     "data": {
      "text/plain": [
       "(77381, 68)"
      ]
     },
     "execution_count": 10,
     "metadata": {},
     "output_type": "execute_result"
    }
   ],
   "source": [
    "df = df.loc[:, ~df.columns.duplicated()]\n",
    "df.shape"
   ]
  },
  {
   "cell_type": "code",
   "execution_count": 11,
   "id": "3b8fb0ac",
   "metadata": {},
   "outputs": [
    {
     "name": "stdout",
     "output_type": "stream",
     "text": [
      "transactiondate\n",
      "2017-06-30    1189\n",
      "2017-04-28     911\n",
      "2017-05-31     867\n",
      "2017-07-28     814\n",
      "2017-08-31     781\n",
      "              ... \n",
      "2017-07-22       1\n",
      "2017-08-05       1\n",
      "2017-08-06       1\n",
      "2017-08-12       1\n",
      "2018-05-25       1\n",
      "Name: transactiondate, Length: 265, dtype: int64\n",
      "\n",
      "propertycountylandusecode\n",
      "0100    26714\n",
      "122     13045\n",
      "010C     8813\n",
      "0101     6399\n",
      "34       4922\n",
      "1111     3353\n",
      "1        2393\n",
      "010E     2047\n",
      "010D     1943\n",
      "0200     1835\n",
      "1129     1378\n",
      "1110     1024\n",
      "0400      620\n",
      "0300      481\n",
      "012C      384\n",
      "0104      367\n",
      "1128      333\n",
      "01DC      211\n",
      "01HC      137\n",
      "38         94\n",
      "010G       93\n",
      "96         91\n",
      "0103       91\n",
      "010H       64\n",
      "0108       57\n",
      "1117       55\n",
      "010M       52\n",
      "0700       50\n",
      "1210       42\n",
      "010V       39\n",
      "135        38\n",
      "010F       29\n",
      "0201       23\n",
      "0109       18\n",
      "1222       16\n",
      "01HE       11\n",
      "1116       10\n",
      "73          9\n",
      "1310        8\n",
      "1112        8\n",
      "1720        7\n",
      "0110        6\n",
      "0113        6\n",
      "1410        5\n",
      "070D        5\n",
      "012E        5\n",
      "0401        4\n",
      "0141        4\n",
      "0105        3\n",
      "1120        3\n",
      "1333        3\n",
      "0102        3\n",
      "1722        2\n",
      "040V        2\n",
      "0130        2\n",
      "0301        2\n",
      "1421        2\n",
      "1321        2\n",
      "0111        2\n",
      "020M        1\n",
      "020G        1\n",
      "105         1\n",
      "0204        1\n",
      "030G        1\n",
      "0203        1\n",
      "0114        1\n",
      "012D        1\n",
      "040B        1\n",
      "010L        1\n",
      "0133        1\n",
      "0115        1\n",
      "0131        1\n",
      "1432        1\n",
      "040G        1\n",
      "020E        1\n",
      "Name: propertycountylandusecode, dtype: int64\n",
      "\n",
      "propertyzoningdesc\n",
      "LAR1          6747\n",
      "LAR3          2437\n",
      "LARS          1389\n",
      "LBR1N         1222\n",
      "LARD1.5       1127\n",
      "              ... \n",
      "LNC3YY           1\n",
      "SRR2*            1\n",
      "INP1VV           1\n",
      "NORA50           1\n",
      "LCRA7000-R       1\n",
      "Name: propertyzoningdesc, Length: 1907, dtype: int64\n",
      "\n",
      "taxdelinquencyflag\n",
      "Y    2886\n",
      "Name: taxdelinquencyflag, dtype: int64\n",
      "\n",
      "airconditioningdesc\n",
      "Central          23133\n",
      "Yes               1574\n",
      "None               167\n",
      "Wall Unit           53\n",
      "Refrigeration       26\n",
      "Name: airconditioningdesc, dtype: int64\n",
      "\n",
      "architecturalstyledesc\n",
      "Contemporary     172\n",
      "Conventional      19\n",
      "Ranch/Rambler      7\n",
      "Bungalow           5\n",
      "Cape Cod           3\n",
      "Name: architecturalstyledesc, dtype: int64\n",
      "\n",
      "buildingclassdesc\n",
      "Buildings having wood or wood and steel frames                                                                                                                                                                                             14\n",
      "Buildings having exterior walls built of a non-combustible material such as brick, concrete, block or poured concrete. Interior partitions and roof structures are built of combustible materials. Floor may be concrete or wood frame.     1\n",
      "Name: buildingclassdesc, dtype: int64\n",
      "\n",
      "heatingorsystemdesc\n",
      "Central       33550\n",
      "Floor/Wall    14065\n",
      "Yes             846\n",
      "Forced air      776\n",
      "Solar           104\n",
      "None             59\n",
      "Radiant          23\n",
      "Baseboard        13\n",
      "Gravity           3\n",
      "Heat Pump         1\n",
      "Name: heatingorsystemdesc, dtype: int64\n",
      "\n",
      "propertylandusedesc\n",
      "Single Family Residential                     52320\n",
      "Condominium                                   19294\n",
      "Duplex (2 Units, Any Combination)              2009\n",
      "Planned Unit Development                       1944\n",
      "Quadruplex (4 Units, Any Combination)           727\n",
      "Triplex (3 Units, Any Combination)              535\n",
      "Cluster Home                                    333\n",
      "Mobile Home                                      74\n",
      "Manufactured, Modular, Prefabricated Homes       58\n",
      "Residential General                              37\n",
      "Cooperative                                      29\n",
      "Commercial/Office/Residential Mixed Used         15\n",
      "Townhouse                                         6\n",
      "Name: propertylandusedesc, dtype: int64\n",
      "\n",
      "storydesc\n",
      "Basement    50\n",
      "Name: storydesc, dtype: int64\n",
      "\n",
      "typeconstructiondesc\n",
      "Frame       219\n",
      "Masonry       1\n",
      "Metal         1\n",
      "Concrete      1\n",
      "Name: typeconstructiondesc, dtype: int64\n",
      "\n"
     ]
    }
   ],
   "source": [
    "# get value counts for discrete variables\n",
    "\n",
    "desc_cols = [col for col in df.columns if (df[col].dtype == \"object\")]\n",
    "\n",
    "for col in desc_cols:\n",
    "    \n",
    "    print(col)\n",
    "    print(df[col].value_counts())\n",
    "    print()"
   ]
  },
  {
   "cell_type": "code",
   "execution_count": 12,
   "id": "17daa72f",
   "metadata": {},
   "outputs": [
    {
     "data": {
      "image/png": "[encoded data removed]",
      "text/plain": [
       "<Figure size 432x288 with 1 Axes>"
      ]
     },
     "metadata": {
      "needs_background": "light"
     },
     "output_type": "display_data"
    },
    {
     "data": {
      "image/png": "[encoded data removed]",
      "text/plain": [
       "<Figure size 432x288 with 1 Axes>"
      ]
     },
     "metadata": {
      "needs_background": "light"
     },
     "output_type": "display_data"
    },
    {
     "data": {
      "image/png": "[encoded data removed]",
      "text/plain": [
       "<Figure size 432x288 with 1 Axes>"
      ]
     },
     "metadata": {
      "needs_background": "light"
     },
     "output_type": "display_data"
    },
    {
     "data": {
      "image/png": "[encoded data removed]",
      "text/plain": [
       "<Figure size 432x288 with 1 Axes>"
      ]
     },
     "metadata": {
      "needs_background": "light"
     },
     "output_type": "display_data"
    },
    {
     "data": {
      "image/png": "[encoded data removed]",
      "text/plain": [
       "<Figure size 432x288 with 1 Axes>"
      ]
     },
     "metadata": {
      "needs_background": "light"
     },
     "output_type": "display_data"
    },
    {
     "data": {
      "image/png": "[encoded data removed]",
      "text/plain": [
       "<Figure size 432x288 with 1 Axes>"
      ]
     },
     "metadata": {
      "needs_background": "light"
     },
     "output_type": "display_data"
    },
    {
     "data": {
      "image/png": "[encoded data removed]",
      "text/plain": [
       "<Figure size 432x288 with 1 Axes>"
      ]
     },
     "metadata": {
      "needs_background": "light"
     },
     "output_type": "display_data"
    },
    {
     "data": {
      "image/png": "[encoded data removed]",
      "text/plain": [
       "<Figure size 432x288 with 1 Axes>"
      ]
     },
     "metadata": {
      "needs_background": "light"
     },
     "output_type": "display_data"
    },
    {
     "data": {
      "image/png": "[encoded data removed]",
      "text/plain": [
       "<Figure size 432x288 with 1 Axes>"
      ]
     },
     "metadata": {
      "needs_background": "light"
     },
     "output_type": "display_data"
    },
    {
     "data": {
      "image/png": "[encoded data removed]",
      "text/plain": [
       "<Figure size 432x288 with 1 Axes>"
      ]
     },
     "metadata": {
      "needs_background": "light"
     },
     "output_type": "display_data"
    },
    {
     "data": {
      "image/png": "[encoded data removed]",
      "text/plain": [
       "<Figure size 432x288 with 1 Axes>"
      ]
     },
     "metadata": {
      "needs_background": "light"
     },
     "output_type": "display_data"
    },
    {
     "data": {
      "image/png": "[encoded data removed]",
      "text/plain": [
       "<Figure size 432x288 with 1 Axes>"
      ]
     },
     "metadata": {
      "needs_background": "light"
     },
     "output_type": "display_data"
    },
    {
     "data": {
      "image/png": "[encoded data removed]",
      "text/plain": [
       "<Figure size 432x288 with 1 Axes>"
      ]
     },
     "metadata": {
      "needs_background": "light"
     },
     "output_type": "display_data"
    },
    {
     "data": {
      "image/png": "[encoded data removed]",
      "text/plain": [
       "<Figure size 432x288 with 1 Axes>"
      ]
     },
     "metadata": {
      "needs_background": "light"
     },
     "output_type": "display_data"
    },
    {
     "data": {
      "image/png": "[encoded data removed]",
      "text/plain": [
       "<Figure size 432x288 with 1 Axes>"
      ]
     },
     "metadata": {
      "needs_background": "light"
     },
     "output_type": "display_data"
    },
    {
     "data": {
      "image/png": "[encoded data removed]",
      "text/plain": [
       "<Figure size 432x288 with 1 Axes>"
      ]
     },
     "metadata": {
      "needs_background": "light"
     },
     "output_type": "display_data"
    },
    {
     "data": {
      "image/png": "[encoded data removed]",
      "text/plain": [
       "<Figure size 432x288 with 1 Axes>"
      ]
     },
     "metadata": {
      "needs_background": "light"
     },
     "output_type": "display_data"
    },
    {
     "data": {
      "image/png": "[encoded data removed]",
      "text/plain": [
       "<Figure size 432x288 with 1 Axes>"
      ]
     },
     "metadata": {
      "needs_background": "light"
     },
     "output_type": "display_data"
    },
    {
     "data": {
      "image/png": "[encoded data removed]",
      "text/plain": [
       "<Figure size 432x288 with 1 Axes>"
      ]
     },
     "metadata": {
      "needs_background": "light"
     },
     "output_type": "display_data"
    },
    {
     "data": {
      "image/png": "[encoded data removed]",
      "text/plain": [
       "<Figure size 432x288 with 1 Axes>"
      ]
     },
     "metadata": {
      "needs_background": "light"
     },
     "output_type": "display_data"
    },
    {
     "data": {
      "image/png": "[encoded data removed]",
      "text/plain": [
       "<Figure size 432x288 with 1 Axes>"
      ]
     },
     "metadata": {
      "needs_background": "light"
     },
     "output_type": "display_data"
    },
    {
     "data": {
      "image/png": "[encoded data removed]",
      "text/plain": [
       "<Figure size 432x288 with 1 Axes>"
      ]
     },
     "metadata": {
      "needs_background": "light"
     },
     "output_type": "display_data"
    },
    {
     "data": {
      "image/png": "[encoded data removed]",
      "text/plain": [
       "<Figure size 432x288 with 1 Axes>"
      ]
     },
     "metadata": {
      "needs_background": "light"
     },
     "output_type": "display_data"
    },
    {
     "data": {
      "image/png": "[encoded data removed]",
      "text/plain": [
       "<Figure size 432x288 with 1 Axes>"
      ]
     },
     "metadata": {
      "needs_background": "light"
     },
     "output_type": "display_data"
    },
    {
     "data": {
      "image/png": "[encoded data removed]",
      "text/plain": [
       "<Figure size 432x288 with 1 Axes>"
      ]
     },
     "metadata": {
      "needs_background": "light"
     },
     "output_type": "display_data"
    },
    {
     "data": {
      "image/png": "[encoded data removed]",
      "text/plain": [
       "<Figure size 432x288 with 1 Axes>"
      ]
     },
     "metadata": {
      "needs_background": "light"
     },
     "output_type": "display_data"
    },
    {
     "data": {
      "image/png": "[encoded data removed]",
      "text/plain": [
       "<Figure size 432x288 with 1 Axes>"
      ]
     },
     "metadata": {
      "needs_background": "light"
     },
     "output_type": "display_data"
    },
    {
     "data": {
      "image/png": "[encoded data removed]",
      "text/plain": [
       "<Figure size 432x288 with 1 Axes>"
      ]
     },
     "metadata": {
      "needs_background": "light"
     },
     "output_type": "display_data"
    },
    {
     "data": {
      "image/png": "[encoded data removed]",
      "text/plain": [
       "<Figure size 432x288 with 1 Axes>"
      ]
     },
     "metadata": {
      "needs_background": "light"
     },
     "output_type": "display_data"
    },
    {
     "data": {
      "image/png": "[encoded data removed]",
      "text/plain": [
       "<Figure size 432x288 with 1 Axes>"
      ]
     },
     "metadata": {
      "needs_background": "light"
     },
     "output_type": "display_data"
    },
    {
     "data": {
      "image/png": "[encoded data removed]",
      "text/plain": [
       "<Figure size 432x288 with 1 Axes>"
      ]
     },
     "metadata": {
      "needs_background": "light"
     },
     "output_type": "display_data"
    },
    {
     "data": {
      "image/png": "[encoded data removed]",
      "text/plain": [
       "<Figure size 432x288 with 1 Axes>"
      ]
     },
     "metadata": {
      "needs_background": "light"
     },
     "output_type": "display_data"
    },
    {
     "data": {
      "image/png": "[encoded data removed]",
      "text/plain": [
       "<Figure size 432x288 with 1 Axes>"
      ]
     },
     "metadata": {
      "needs_background": "light"
     },
     "output_type": "display_data"
    },
    {
     "data": {
      "image/png": "[encoded data removed]",
      "text/plain": [
       "<Figure size 432x288 with 1 Axes>"
      ]
     },
     "metadata": {
      "needs_background": "light"
     },
     "output_type": "display_data"
    },
    {
     "data": {
      "image/png": "[encoded data removed]",
      "text/plain": [
       "<Figure size 432x288 with 1 Axes>"
      ]
     },
     "metadata": {
      "needs_background": "light"
     },
     "output_type": "display_data"
    },
    {
     "data": {
      "image/png": "[encoded data removed]",
      "text/plain": [
       "<Figure size 432x288 with 1 Axes>"
      ]
     },
     "metadata": {
      "needs_background": "light"
     },
     "output_type": "display_data"
    },
    {
     "data": {
      "image/png": "[encoded data removed]",
      "text/plain": [
       "<Figure size 432x288 with 1 Axes>"
      ]
     },
     "metadata": {
      "needs_background": "light"
     },
     "output_type": "display_data"
    },
    {
     "data": {
      "image/png": "[encoded data removed]",
      "text/plain": [
       "<Figure size 432x288 with 1 Axes>"
      ]
     },
     "metadata": {
      "needs_background": "light"
     },
     "output_type": "display_data"
    },
    {
     "data": {
      "image/png": "[encoded data removed]",
      "text/plain": [
       "<Figure size 432x288 with 1 Axes>"
      ]
     },
     "metadata": {
      "needs_background": "light"
     },
     "output_type": "display_data"
    },
    {
     "data": {
      "image/png": "[encoded data removed]",
      "text/plain": [
       "<Figure size 432x288 with 1 Axes>"
      ]
     },
     "metadata": {
      "needs_background": "light"
     },
     "output_type": "display_data"
    },
    {
     "data": {
      "image/png": "[encoded data removed]",
      "text/plain": [
       "<Figure size 432x288 with 1 Axes>"
      ]
     },
     "metadata": {
      "needs_background": "light"
     },
     "output_type": "display_data"
    },
    {
     "data": {
      "image/png": "[encoded data removed]",
      "text/plain": [
       "<Figure size 432x288 with 1 Axes>"
      ]
     },
     "metadata": {
      "needs_background": "light"
     },
     "output_type": "display_data"
    },
    {
     "data": {
      "image/png": "[encoded data removed]",
      "text/plain": [
       "<Figure size 432x288 with 1 Axes>"
      ]
     },
     "metadata": {
      "needs_background": "light"
     },
     "output_type": "display_data"
    },
    {
     "data": {
      "image/png": "[encoded data removed]",
      "text/plain": [
       "<Figure size 432x288 with 1 Axes>"
      ]
     },
     "metadata": {
      "needs_background": "light"
     },
     "output_type": "display_data"
    },
    {
     "data": {
      "image/png": "[encoded data removed]",
      "text/plain": [
       "<Figure size 432x288 with 1 Axes>"
      ]
     },
     "metadata": {
      "needs_background": "light"
     },
     "output_type": "display_data"
    },
    {
     "data": {
      "image/png": "[encoded data removed]",
      "text/plain": [
       "<Figure size 432x288 with 1 Axes>"
      ]
     },
     "metadata": {
      "needs_background": "light"
     },
     "output_type": "display_data"
    },
    {
     "data": {
      "image/png": "[encoded data removed]",
      "text/plain": [
       "<Figure size 432x288 with 1 Axes>"
      ]
     },
     "metadata": {
      "needs_background": "light"
     },
     "output_type": "display_data"
    },
    {
     "data": {
      "image/png": "[encoded data removed]",
      "text/plain": [
       "<Figure size 432x288 with 1 Axes>"
      ]
     },
     "metadata": {
      "needs_background": "light"
     },
     "output_type": "display_data"
    },
    {
     "data": {
      "image/png": "[encoded data removed]",
      "text/plain": [
       "<Figure size 432x288 with 1 Axes>"
      ]
     },
     "metadata": {
      "needs_background": "light"
     },
     "output_type": "display_data"
    },
    {
     "data": {
      "image/png": "[encoded data removed]",
      "text/plain": [
       "<Figure size 432x288 with 1 Axes>"
      ]
     },
     "metadata": {
      "needs_background": "light"
     },
     "output_type": "display_data"
    },
    {
     "data": {
      "image/png": "[encoded data removed]",
      "text/plain": [
       "<Figure size 432x288 with 1 Axes>"
      ]
     },
     "metadata": {
      "needs_background": "light"
     },
     "output_type": "display_data"
    },
    {
     "data": {
      "image/png": "[encoded data removed]",
      "text/plain": [
       "<Figure size 432x288 with 1 Axes>"
      ]
     },
     "metadata": {
      "needs_background": "light"
     },
     "output_type": "display_data"
    },
    {
     "data": {
      "image/png": "[encoded data removed]",
      "text/plain": [
       "<Figure size 432x288 with 1 Axes>"
      ]
     },
     "metadata": {
      "needs_background": "light"
     },
     "output_type": "display_data"
    },
    {
     "data": {
      "image/png": "[encoded data removed]",
      "text/plain": [
       "<Figure size 432x288 with 1 Axes>"
      ]
     },
     "metadata": {
      "needs_background": "light"
     },
     "output_type": "display_data"
    },
    {
     "data": {
      "image/png": "[encoded data removed]",
      "text/plain": [
       "<Figure size 432x288 with 1 Axes>"
      ]
     },
     "metadata": {
      "needs_background": "light"
     },
     "output_type": "display_data"
    },
    {
     "data": {
      "image/png": "[encoded data removed]",
      "text/plain": [
       "<Figure size 432x288 with 1 Axes>"
      ]
     },
     "metadata": {
      "needs_background": "light"
     },
     "output_type": "display_data"
    },
    {
     "data": {
      "image/png": "[encoded data removed]",
      "text/plain": [
       "<Figure size 432x288 with 1 Axes>"
      ]
     },
     "metadata": {
      "needs_background": "light"
     },
     "output_type": "display_data"
    }
   ],
   "source": [
    "# distribution of the data\n",
    "con_cols = [col for col in df.columns if (df[col].dtype == 'int64') | (df[col].dtype == 'float64')]\n",
    "\n",
    "for col in con_cols:\n",
    "    plt.hist(df[col])\n",
    "    plt.title(f\"{col} distribution\")\n",
    "    plt.show()"
   ]
  },
  {
   "cell_type": "code",
   "execution_count": 13,
   "id": "88c52606",
   "metadata": {},
   "outputs": [
    {
     "name": "stdout",
     "output_type": "stream",
     "text": [
      "transactiondate\n",
      "2017-06-30    1189\n",
      "2017-04-28     911\n",
      "2017-05-31     867\n",
      "2017-07-28     814\n",
      "2017-08-31     781\n",
      "              ... \n",
      "2017-07-22       1\n",
      "2017-08-05       1\n",
      "2017-08-06       1\n",
      "2017-08-12       1\n",
      "2018-05-25       1\n",
      "Name: transactiondate, Length: 265, dtype: int64\n",
      "\n",
      "propertycountylandusecode\n",
      "0100    26714\n",
      "122     13045\n",
      "010C     8813\n",
      "0101     6399\n",
      "34       4922\n",
      "1111     3353\n",
      "1        2393\n",
      "010E     2047\n",
      "010D     1943\n",
      "0200     1835\n",
      "1129     1378\n",
      "1110     1024\n",
      "0400      620\n",
      "0300      481\n",
      "012C      384\n",
      "0104      367\n",
      "1128      333\n",
      "01DC      211\n",
      "01HC      137\n",
      "38         94\n",
      "010G       93\n",
      "96         91\n",
      "0103       91\n",
      "010H       64\n",
      "0108       57\n",
      "1117       55\n",
      "010M       52\n",
      "0700       50\n",
      "1210       42\n",
      "010V       39\n",
      "135        38\n",
      "010F       29\n",
      "0201       23\n",
      "0109       18\n",
      "1222       16\n",
      "01HE       11\n",
      "1116       10\n",
      "73          9\n",
      "1310        8\n",
      "1112        8\n",
      "1720        7\n",
      "0110        6\n",
      "0113        6\n",
      "1410        5\n",
      "070D        5\n",
      "012E        5\n",
      "0401        4\n",
      "0141        4\n",
      "0105        3\n",
      "1120        3\n",
      "1333        3\n",
      "0102        3\n",
      "1722        2\n",
      "040V        2\n",
      "0130        2\n",
      "0301        2\n",
      "1421        2\n",
      "1321        2\n",
      "0111        2\n",
      "020M        1\n",
      "020G        1\n",
      "105         1\n",
      "0204        1\n",
      "030G        1\n",
      "0203        1\n",
      "0114        1\n",
      "012D        1\n",
      "040B        1\n",
      "010L        1\n",
      "0133        1\n",
      "0115        1\n",
      "0131        1\n",
      "1432        1\n",
      "040G        1\n",
      "020E        1\n",
      "Name: propertycountylandusecode, dtype: int64\n",
      "\n",
      "propertyzoningdesc\n",
      "LAR1          6747\n",
      "LAR3          2437\n",
      "LARS          1389\n",
      "LBR1N         1222\n",
      "LARD1.5       1127\n",
      "              ... \n",
      "LNC3YY           1\n",
      "SRR2*            1\n",
      "INP1VV           1\n",
      "NORA50           1\n",
      "LCRA7000-R       1\n",
      "Name: propertyzoningdesc, Length: 1907, dtype: int64\n",
      "\n",
      "taxdelinquencyflag\n",
      "Y    2886\n",
      "Name: taxdelinquencyflag, dtype: int64\n",
      "\n",
      "airconditioningdesc\n",
      "Central          23133\n",
      "Yes               1574\n",
      "None               167\n",
      "Wall Unit           53\n",
      "Refrigeration       26\n",
      "Name: airconditioningdesc, dtype: int64\n",
      "\n",
      "architecturalstyledesc\n",
      "Contemporary     172\n",
      "Conventional      19\n",
      "Ranch/Rambler      7\n",
      "Bungalow           5\n",
      "Cape Cod           3\n",
      "Name: architecturalstyledesc, dtype: int64\n",
      "\n",
      "buildingclassdesc\n",
      "Buildings having wood or wood and steel frames                                                                                                                                                                                             14\n",
      "Buildings having exterior walls built of a non-combustible material such as brick, concrete, block or poured concrete. Interior partitions and roof structures are built of combustible materials. Floor may be concrete or wood frame.     1\n",
      "Name: buildingclassdesc, dtype: int64\n",
      "\n",
      "heatingorsystemdesc\n",
      "Central       33550\n",
      "Floor/Wall    14065\n",
      "Yes             846\n",
      "Forced air      776\n",
      "Solar           104\n",
      "None             59\n",
      "Radiant          23\n",
      "Baseboard        13\n",
      "Gravity           3\n",
      "Heat Pump         1\n",
      "Name: heatingorsystemdesc, dtype: int64\n",
      "\n",
      "propertylandusedesc\n",
      "Single Family Residential                     52320\n",
      "Condominium                                   19294\n",
      "Duplex (2 Units, Any Combination)              2009\n",
      "Planned Unit Development                       1944\n",
      "Quadruplex (4 Units, Any Combination)           727\n",
      "Triplex (3 Units, Any Combination)              535\n",
      "Cluster Home                                    333\n",
      "Mobile Home                                      74\n",
      "Manufactured, Modular, Prefabricated Homes       58\n",
      "Residential General                              37\n",
      "Cooperative                                      29\n",
      "Commercial/Office/Residential Mixed Used         15\n",
      "Townhouse                                         6\n",
      "Name: propertylandusedesc, dtype: int64\n",
      "\n",
      "storydesc\n",
      "Basement    50\n",
      "Name: storydesc, dtype: int64\n",
      "\n",
      "typeconstructiondesc\n",
      "Frame       219\n",
      "Masonry       1\n",
      "Metal         1\n",
      "Concrete      1\n",
      "Name: typeconstructiondesc, dtype: int64\n",
      "\n"
     ]
    }
   ],
   "source": [
    "# get value counts for discrete variables\n",
    "\n",
    "desc_cols = [col for col in df.columns if (df[col].dtype == \"object\")]\n",
    "\n",
    "\n",
    "for col in desc_cols:\n",
    "    \n",
    "    print(col)\n",
    "    print(df[col].value_counts())\n",
    "    print()"
   ]
  },
  {
   "cell_type": "markdown",
   "id": "cbd840c9",
   "metadata": {},
   "source": [
    "## Q3) \n",
    "Write a function that takes in a dataframe of observations and attributes and returns a dataframe where each row is an atttribute name, the first column is the number of rows with missing values for that attribute, and the second column is percent of total rows that have missing values for that attribute. Run the function and document takeaways from this on how you want to handle missing values"
   ]
  },
  {
   "cell_type": "code",
   "execution_count": 14,
   "id": "0fe9972e",
   "metadata": {},
   "outputs": [],
   "source": [
    "def null_df():\n",
    "    # number of null values in df\n",
    "    null = df.isnull().sum()\n",
    "    # percent null by feature\n",
    "    percent_null = df.isnull().sum()/df.shape[0]\n",
    "    return pd.DataFrame({'null_rows': null, 'pct_null': percent_null}) # create/return dataframe\n"
   ]
  },
  {
   "cell_type": "code",
   "execution_count": 15,
   "id": "52e24c88",
   "metadata": {},
   "outputs": [
    {
     "data": {
      "text/html": [
       "<div>\n",
       "<style scoped>\n",
       "    .dataframe tbody tr th:only-of-type {\n",
       "        vertical-align: middle;\n",
       "    }\n",
       "\n",
       "    .dataframe tbody tr th {\n",
       "        vertical-align: top;\n",
       "    }\n",
       "\n",
       "    .dataframe thead th {\n",
       "        text-align: right;\n",
       "    }\n",
       "</style>\n",
       "<table border=\"1\" class=\"dataframe\">\n",
       "  <thead>\n",
       "    <tr style=\"text-align: right;\">\n",
       "      <th></th>\n",
       "      <th>null_rows</th>\n",
       "      <th>pct_null</th>\n",
       "    </tr>\n",
       "  </thead>\n",
       "  <tbody>\n",
       "    <tr>\n",
       "      <th>typeconstructiontypeid</th>\n",
       "      <td>77159</td>\n",
       "      <td>0.997131</td>\n",
       "    </tr>\n",
       "    <tr>\n",
       "      <th>storytypeid</th>\n",
       "      <td>77331</td>\n",
       "      <td>0.999354</td>\n",
       "    </tr>\n",
       "    <tr>\n",
       "      <th>propertylandusetypeid</th>\n",
       "      <td>0</td>\n",
       "      <td>0.000000</td>\n",
       "    </tr>\n",
       "    <tr>\n",
       "      <th>heatingorsystemtypeid</th>\n",
       "      <td>27941</td>\n",
       "      <td>0.361083</td>\n",
       "    </tr>\n",
       "    <tr>\n",
       "      <th>buildingclasstypeid</th>\n",
       "      <td>77366</td>\n",
       "      <td>0.999806</td>\n",
       "    </tr>\n",
       "    <tr>\n",
       "      <th>architecturalstyletypeid</th>\n",
       "      <td>77175</td>\n",
       "      <td>0.997338</td>\n",
       "    </tr>\n",
       "    <tr>\n",
       "      <th>airconditioningtypeid</th>\n",
       "      <td>52428</td>\n",
       "      <td>0.677531</td>\n",
       "    </tr>\n",
       "    <tr>\n",
       "      <th>parcelid</th>\n",
       "      <td>0</td>\n",
       "      <td>0.000000</td>\n",
       "    </tr>\n",
       "    <tr>\n",
       "      <th>id</th>\n",
       "      <td>0</td>\n",
       "      <td>0.000000</td>\n",
       "    </tr>\n",
       "    <tr>\n",
       "      <th>logerror</th>\n",
       "      <td>0</td>\n",
       "      <td>0.000000</td>\n",
       "    </tr>\n",
       "    <tr>\n",
       "      <th>transactiondate</th>\n",
       "      <td>0</td>\n",
       "      <td>0.000000</td>\n",
       "    </tr>\n",
       "    <tr>\n",
       "      <th>basementsqft</th>\n",
       "      <td>77331</td>\n",
       "      <td>0.999354</td>\n",
       "    </tr>\n",
       "    <tr>\n",
       "      <th>bathroomcnt</th>\n",
       "      <td>0</td>\n",
       "      <td>0.000000</td>\n",
       "    </tr>\n",
       "    <tr>\n",
       "      <th>bedroomcnt</th>\n",
       "      <td>0</td>\n",
       "      <td>0.000000</td>\n",
       "    </tr>\n",
       "    <tr>\n",
       "      <th>buildingqualitytypeid</th>\n",
       "      <td>27709</td>\n",
       "      <td>0.358085</td>\n",
       "    </tr>\n",
       "    <tr>\n",
       "      <th>calculatedbathnbr</th>\n",
       "      <td>609</td>\n",
       "      <td>0.007870</td>\n",
       "    </tr>\n",
       "    <tr>\n",
       "      <th>decktypeid</th>\n",
       "      <td>76767</td>\n",
       "      <td>0.992065</td>\n",
       "    </tr>\n",
       "    <tr>\n",
       "      <th>finishedfloor1squarefeet</th>\n",
       "      <td>71358</td>\n",
       "      <td>0.922164</td>\n",
       "    </tr>\n",
       "    <tr>\n",
       "      <th>calculatedfinishedsquarefeet</th>\n",
       "      <td>196</td>\n",
       "      <td>0.002533</td>\n",
       "    </tr>\n",
       "    <tr>\n",
       "      <th>finishedsquarefeet12</th>\n",
       "      <td>3632</td>\n",
       "      <td>0.046937</td>\n",
       "    </tr>\n",
       "    <tr>\n",
       "      <th>finishedsquarefeet13</th>\n",
       "      <td>77340</td>\n",
       "      <td>0.999470</td>\n",
       "    </tr>\n",
       "    <tr>\n",
       "      <th>finishedsquarefeet15</th>\n",
       "      <td>74372</td>\n",
       "      <td>0.961114</td>\n",
       "    </tr>\n",
       "    <tr>\n",
       "      <th>finishedsquarefeet50</th>\n",
       "      <td>71358</td>\n",
       "      <td>0.922164</td>\n",
       "    </tr>\n",
       "    <tr>\n",
       "      <th>finishedsquarefeet6</th>\n",
       "      <td>76995</td>\n",
       "      <td>0.995012</td>\n",
       "    </tr>\n",
       "    <tr>\n",
       "      <th>fips</th>\n",
       "      <td>0</td>\n",
       "      <td>0.000000</td>\n",
       "    </tr>\n",
       "    <tr>\n",
       "      <th>fireplacecnt</th>\n",
       "      <td>69105</td>\n",
       "      <td>0.893049</td>\n",
       "    </tr>\n",
       "    <tr>\n",
       "      <th>fullbathcnt</th>\n",
       "      <td>609</td>\n",
       "      <td>0.007870</td>\n",
       "    </tr>\n",
       "    <tr>\n",
       "      <th>garagecarcnt</th>\n",
       "      <td>51907</td>\n",
       "      <td>0.670798</td>\n",
       "    </tr>\n",
       "    <tr>\n",
       "      <th>garagetotalsqft</th>\n",
       "      <td>51907</td>\n",
       "      <td>0.670798</td>\n",
       "    </tr>\n",
       "    <tr>\n",
       "      <th>hashottuborspa</th>\n",
       "      <td>75843</td>\n",
       "      <td>0.980124</td>\n",
       "    </tr>\n",
       "    <tr>\n",
       "      <th>latitude</th>\n",
       "      <td>0</td>\n",
       "      <td>0.000000</td>\n",
       "    </tr>\n",
       "    <tr>\n",
       "      <th>longitude</th>\n",
       "      <td>0</td>\n",
       "      <td>0.000000</td>\n",
       "    </tr>\n",
       "    <tr>\n",
       "      <th>lotsizesquarefeet</th>\n",
       "      <td>8239</td>\n",
       "      <td>0.106473</td>\n",
       "    </tr>\n",
       "    <tr>\n",
       "      <th>poolcnt</th>\n",
       "      <td>61244</td>\n",
       "      <td>0.791460</td>\n",
       "    </tr>\n",
       "    <tr>\n",
       "      <th>poolsizesum</th>\n",
       "      <td>76514</td>\n",
       "      <td>0.988796</td>\n",
       "    </tr>\n",
       "    <tr>\n",
       "      <th>pooltypeid10</th>\n",
       "      <td>76917</td>\n",
       "      <td>0.994004</td>\n",
       "    </tr>\n",
       "    <tr>\n",
       "      <th>pooltypeid2</th>\n",
       "      <td>76307</td>\n",
       "      <td>0.986121</td>\n",
       "    </tr>\n",
       "    <tr>\n",
       "      <th>pooltypeid7</th>\n",
       "      <td>62339</td>\n",
       "      <td>0.805611</td>\n",
       "    </tr>\n",
       "    <tr>\n",
       "      <th>propertycountylandusecode</th>\n",
       "      <td>0</td>\n",
       "      <td>0.000000</td>\n",
       "    </tr>\n",
       "    <tr>\n",
       "      <th>propertyzoningdesc</th>\n",
       "      <td>27050</td>\n",
       "      <td>0.349569</td>\n",
       "    </tr>\n",
       "    <tr>\n",
       "      <th>rawcensustractandblock</th>\n",
       "      <td>0</td>\n",
       "      <td>0.000000</td>\n",
       "    </tr>\n",
       "    <tr>\n",
       "      <th>regionidcity</th>\n",
       "      <td>1471</td>\n",
       "      <td>0.019010</td>\n",
       "    </tr>\n",
       "    <tr>\n",
       "      <th>regionidcounty</th>\n",
       "      <td>0</td>\n",
       "      <td>0.000000</td>\n",
       "    </tr>\n",
       "    <tr>\n",
       "      <th>regionidneighborhood</th>\n",
       "      <td>46491</td>\n",
       "      <td>0.600806</td>\n",
       "    </tr>\n",
       "    <tr>\n",
       "      <th>regionidzip</th>\n",
       "      <td>50</td>\n",
       "      <td>0.000646</td>\n",
       "    </tr>\n",
       "    <tr>\n",
       "      <th>roomcnt</th>\n",
       "      <td>0</td>\n",
       "      <td>0.000000</td>\n",
       "    </tr>\n",
       "    <tr>\n",
       "      <th>threequarterbathnbr</th>\n",
       "      <td>67285</td>\n",
       "      <td>0.869529</td>\n",
       "    </tr>\n",
       "    <tr>\n",
       "      <th>unitcnt</th>\n",
       "      <td>26818</td>\n",
       "      <td>0.346571</td>\n",
       "    </tr>\n",
       "    <tr>\n",
       "      <th>yardbuildingsqft17</th>\n",
       "      <td>74993</td>\n",
       "      <td>0.969140</td>\n",
       "    </tr>\n",
       "    <tr>\n",
       "      <th>yardbuildingsqft26</th>\n",
       "      <td>77311</td>\n",
       "      <td>0.999095</td>\n",
       "    </tr>\n",
       "    <tr>\n",
       "      <th>yearbuilt</th>\n",
       "      <td>263</td>\n",
       "      <td>0.003399</td>\n",
       "    </tr>\n",
       "    <tr>\n",
       "      <th>numberofstories</th>\n",
       "      <td>59821</td>\n",
       "      <td>0.773071</td>\n",
       "    </tr>\n",
       "    <tr>\n",
       "      <th>fireplaceflag</th>\n",
       "      <td>77209</td>\n",
       "      <td>0.997777</td>\n",
       "    </tr>\n",
       "    <tr>\n",
       "      <th>structuretaxvaluedollarcnt</th>\n",
       "      <td>112</td>\n",
       "      <td>0.001447</td>\n",
       "    </tr>\n",
       "    <tr>\n",
       "      <th>taxvaluedollarcnt</th>\n",
       "      <td>1</td>\n",
       "      <td>0.000013</td>\n",
       "    </tr>\n",
       "    <tr>\n",
       "      <th>assessmentyear</th>\n",
       "      <td>0</td>\n",
       "      <td>0.000000</td>\n",
       "    </tr>\n",
       "    <tr>\n",
       "      <th>landtaxvaluedollarcnt</th>\n",
       "      <td>2</td>\n",
       "      <td>0.000026</td>\n",
       "    </tr>\n",
       "    <tr>\n",
       "      <th>taxamount</th>\n",
       "      <td>5</td>\n",
       "      <td>0.000065</td>\n",
       "    </tr>\n",
       "    <tr>\n",
       "      <th>taxdelinquencyflag</th>\n",
       "      <td>74495</td>\n",
       "      <td>0.962704</td>\n",
       "    </tr>\n",
       "    <tr>\n",
       "      <th>taxdelinquencyyear</th>\n",
       "      <td>74495</td>\n",
       "      <td>0.962704</td>\n",
       "    </tr>\n",
       "    <tr>\n",
       "      <th>censustractandblock</th>\n",
       "      <td>244</td>\n",
       "      <td>0.003153</td>\n",
       "    </tr>\n",
       "    <tr>\n",
       "      <th>airconditioningdesc</th>\n",
       "      <td>52428</td>\n",
       "      <td>0.677531</td>\n",
       "    </tr>\n",
       "    <tr>\n",
       "      <th>architecturalstyledesc</th>\n",
       "      <td>77175</td>\n",
       "      <td>0.997338</td>\n",
       "    </tr>\n",
       "    <tr>\n",
       "      <th>buildingclassdesc</th>\n",
       "      <td>77366</td>\n",
       "      <td>0.999806</td>\n",
       "    </tr>\n",
       "    <tr>\n",
       "      <th>heatingorsystemdesc</th>\n",
       "      <td>27941</td>\n",
       "      <td>0.361083</td>\n",
       "    </tr>\n",
       "    <tr>\n",
       "      <th>propertylandusedesc</th>\n",
       "      <td>0</td>\n",
       "      <td>0.000000</td>\n",
       "    </tr>\n",
       "    <tr>\n",
       "      <th>storydesc</th>\n",
       "      <td>77331</td>\n",
       "      <td>0.999354</td>\n",
       "    </tr>\n",
       "    <tr>\n",
       "      <th>typeconstructiondesc</th>\n",
       "      <td>77159</td>\n",
       "      <td>0.997131</td>\n",
       "    </tr>\n",
       "  </tbody>\n",
       "</table>\n",
       "</div>"
      ],
      "text/plain": [
       "                              null_rows  pct_null\n",
       "typeconstructiontypeid            77159  0.997131\n",
       "storytypeid                       77331  0.999354\n",
       "propertylandusetypeid                 0  0.000000\n",
       "heatingorsystemtypeid             27941  0.361083\n",
       "buildingclasstypeid               77366  0.999806\n",
       "architecturalstyletypeid          77175  0.997338\n",
       "airconditioningtypeid             52428  0.677531\n",
       "parcelid                              0  0.000000\n",
       "id                                    0  0.000000\n",
       "logerror                              0  0.000000\n",
       "transactiondate                       0  0.000000\n",
       "basementsqft                      77331  0.999354\n",
       "bathroomcnt                           0  0.000000\n",
       "bedroomcnt                            0  0.000000\n",
       "buildingqualitytypeid             27709  0.358085\n",
       "calculatedbathnbr                   609  0.007870\n",
       "decktypeid                        76767  0.992065\n",
       "finishedfloor1squarefeet          71358  0.922164\n",
       "calculatedfinishedsquarefeet        196  0.002533\n",
       "finishedsquarefeet12               3632  0.046937\n",
       "finishedsquarefeet13              77340  0.999470\n",
       "finishedsquarefeet15              74372  0.961114\n",
       "finishedsquarefeet50              71358  0.922164\n",
       "finishedsquarefeet6               76995  0.995012\n",
       "fips                                  0  0.000000\n",
       "fireplacecnt                      69105  0.893049\n",
       "fullbathcnt                         609  0.007870\n",
       "garagecarcnt                      51907  0.670798\n",
       "garagetotalsqft                   51907  0.670798\n",
       "hashottuborspa                    75843  0.980124\n",
       "latitude                              0  0.000000\n",
       "longitude                             0  0.000000\n",
       "lotsizesquarefeet                  8239  0.106473\n",
       "poolcnt                           61244  0.791460\n",
       "poolsizesum                       76514  0.988796\n",
       "pooltypeid10                      76917  0.994004\n",
       "pooltypeid2                       76307  0.986121\n",
       "pooltypeid7                       62339  0.805611\n",
       "propertycountylandusecode             0  0.000000\n",
       "propertyzoningdesc                27050  0.349569\n",
       "rawcensustractandblock                0  0.000000\n",
       "regionidcity                       1471  0.019010\n",
       "regionidcounty                        0  0.000000\n",
       "regionidneighborhood              46491  0.600806\n",
       "regionidzip                          50  0.000646\n",
       "roomcnt                               0  0.000000\n",
       "threequarterbathnbr               67285  0.869529\n",
       "unitcnt                           26818  0.346571\n",
       "yardbuildingsqft17                74993  0.969140\n",
       "yardbuildingsqft26                77311  0.999095\n",
       "yearbuilt                           263  0.003399\n",
       "numberofstories                   59821  0.773071\n",
       "fireplaceflag                     77209  0.997777\n",
       "structuretaxvaluedollarcnt          112  0.001447\n",
       "taxvaluedollarcnt                     1  0.000013\n",
       "assessmentyear                        0  0.000000\n",
       "landtaxvaluedollarcnt                 2  0.000026\n",
       "taxamount                             5  0.000065\n",
       "taxdelinquencyflag                74495  0.962704\n",
       "taxdelinquencyyear                74495  0.962704\n",
       "censustractandblock                 244  0.003153\n",
       "airconditioningdesc               52428  0.677531\n",
       "architecturalstyledesc            77175  0.997338\n",
       "buildingclassdesc                 77366  0.999806\n",
       "heatingorsystemdesc               27941  0.361083\n",
       "propertylandusedesc                   0  0.000000\n",
       "storydesc                         77331  0.999354\n",
       "typeconstructiondesc              77159  0.997131"
      ]
     },
     "execution_count": 15,
     "metadata": {},
     "output_type": "execute_result"
    }
   ],
   "source": [
    "null_df()\n"
   ]
  },
  {
   "cell_type": "markdown",
   "id": "f225c7c5",
   "metadata": {},
   "source": [
    "# Prepare\n",
    "\n",
    "## Q1) \n",
    "Remove any properties that are likely to be something other than single unit properties. (e.g. no duplexes, no land/lot, ...). There are multiple ways to estimate that a property is a single unit, and there is not a single \"right\" answer. \n"
   ]
  },
  {
   "cell_type": "code",
   "execution_count": 16,
   "id": "939e4534",
   "metadata": {},
   "outputs": [
    {
     "data": {
      "text/plain": [
       "Single Family Residential                     52320\n",
       "Condominium                                   19294\n",
       "Duplex (2 Units, Any Combination)              2009\n",
       "Planned Unit Development                       1944\n",
       "Quadruplex (4 Units, Any Combination)           727\n",
       "Triplex (3 Units, Any Combination)              535\n",
       "Cluster Home                                    333\n",
       "Mobile Home                                      74\n",
       "Manufactured, Modular, Prefabricated Homes       58\n",
       "Residential General                              37\n",
       "Cooperative                                      29\n",
       "Commercial/Office/Residential Mixed Used         15\n",
       "Townhouse                                         6\n",
       "Name: propertylandusedesc, dtype: int64"
      ]
     },
     "execution_count": 16,
     "metadata": {},
     "output_type": "execute_result"
    }
   ],
   "source": [
    "df.propertylandusedesc.value_counts()\n"
   ]
  },
  {
   "cell_type": "code",
   "execution_count": 17,
   "id": "2e25550f",
   "metadata": {},
   "outputs": [
    {
     "data": {
      "text/plain": [
       "count       13.000000\n",
       "mean      5952.384615\n",
       "std      14882.292423\n",
       "min          6.000000\n",
       "25%         37.000000\n",
       "50%        333.000000\n",
       "75%       1944.000000\n",
       "max      52320.000000\n",
       "Name: propertylandusedesc, dtype: float64"
      ]
     },
     "execution_count": 17,
     "metadata": {},
     "output_type": "execute_result"
    }
   ],
   "source": [
    "df.propertylandusedesc.value_counts().describe()\n"
   ]
  },
  {
   "cell_type": "code",
   "execution_count": 18,
   "id": "d471340b",
   "metadata": {},
   "outputs": [],
   "source": [
    "#piggybacking off the framing in the question, any shared construction will be removed, only top 3 quartiles (37 or more) will be considered\n",
    "df_unit = df[(df.propertylandusedesc == 'Single Family Residential') |\n",
    "          (df.propertylandusedesc == 'Mobile Home') |\n",
    "          (df.propertylandusedesc == 'Manufactured, Modular, Prefabricated Homes') ]"
   ]
  },
  {
   "cell_type": "code",
   "execution_count": 19,
   "id": "23a3b1fb",
   "metadata": {},
   "outputs": [
    {
     "data": {
      "text/plain": [
       "(52452, 68)"
      ]
     },
     "execution_count": 19,
     "metadata": {},
     "output_type": "execute_result"
    }
   ],
   "source": [
    "df_unit.shape"
   ]
  },
  {
   "cell_type": "code",
   "execution_count": 20,
   "id": "56e80885",
   "metadata": {},
   "outputs": [],
   "source": [
    "def remove_outliers(df, k, col_list):\n",
    "    ''' remove outliers from a list of columns in a dataframe \n",
    "        and return that dataframe\n",
    "    '''\n",
    "    \n",
    "    for col in col_list:\n",
    "\n",
    "        q1, q3 = df[f'{col}'].quantile([.25, .75])  # get quartiles\n",
    "        \n",
    "        iqr = q3 - q1   # calculate interquartile range\n",
    "        \n",
    "        upper_bound = q3 + k * iqr   # get upper bound\n",
    "        lower_bound = q1 - k * iqr   # get lower bound\n",
    "\n",
    "        # return dataframe without outliers\n",
    "        \n",
    "        df = df[(df[f'{col}'] > lower_bound) & (df[f'{col}'] < upper_bound)]\n",
    "        \n",
    "    return df"
   ]
  },
  {
   "cell_type": "code",
   "execution_count": 21,
   "id": "2a58547f",
   "metadata": {},
   "outputs": [],
   "source": [
    "df_outremoved = remove_outliers(df_unit, 1.5, ['calculatedfinishedsquarefeet', 'bedroomcnt', 'bathroomcnt'])\n"
   ]
  },
  {
   "cell_type": "code",
   "execution_count": 22,
   "id": "af112a64",
   "metadata": {},
   "outputs": [
    {
     "data": {
      "text/plain": [
       "(48324, 68)"
      ]
     },
     "execution_count": 22,
     "metadata": {},
     "output_type": "execute_result"
    }
   ],
   "source": [
    "df_outremoved.shape"
   ]
  },
  {
   "cell_type": "markdown",
   "id": "25f9cff5",
   "metadata": {},
   "source": [
    "## Q2) \n",
    "Create a function that will drop rows or columns based on the percent of values that are missing: handle_missing_values(df, prop_required_column, prop_required_row).\n",
    "\n",
    "- The input:\n",
    "    - A dataframe\n",
    "    - A number between 0 and 1 that represents the proportion, for each column, of rows with non-missing values required to keep the column. i.e. if prop_required_column = .6, then you are requiring a column to have at least 60% of values not-NA (no more than 40% missing).\n",
    "    - A number between 0 and 1 that represents the proportion, for each row, of columns/variables with non-missing values required to keep the row. For example, if prop_required_row = .75, then you are requiring a row to have at least 75% of variables with a non-missing value (no more that 25% missing).\n",
    "- The output:\n",
    "    - The dataframe with the columns and rows dropped as indicated. Be sure to drop the columns prior to the rows in your function.\n",
    "- hint:\n",
    "    - Look up the dropna documentation.\n",
    "    - You will want to compute a threshold from your input values (prop_required) and total number of rows or columns.\n"
   ]
  },
  {
   "cell_type": "code",
   "execution_count": 23,
   "id": "417efe93",
   "metadata": {},
   "outputs": [
    {
     "data": {
      "text/plain": [
       "0.5735294117647058"
      ]
     },
     "execution_count": 23,
     "metadata": {},
     "output_type": "execute_result"
    }
   ],
   "source": [
    "# how much of our df contains more than 30% nulls\n",
    "(((df_outremoved.isnull().sum()/df_outremoved.shape[0])>.30).sum())/df_outremoved.shape[1]"
   ]
  },
  {
   "cell_type": "code",
   "execution_count": 24,
   "id": "3bb0414a",
   "metadata": {},
   "outputs": [
    {
     "data": {
      "text/plain": [
       "0.5"
      ]
     },
     "execution_count": 24,
     "metadata": {},
     "output_type": "execute_result"
    }
   ],
   "source": [
    "# how much of our df contains more than 60% nulls\n",
    "(((df_outremoved.isnull().sum()/df_outremoved.shape[0])>.60).sum())/df_outremoved.shape[1]"
   ]
  },
  {
   "cell_type": "code",
   "execution_count": 25,
   "id": "2e11c2f5",
   "metadata": {},
   "outputs": [
    {
     "data": {
      "text/plain": [
       "0.2647058823529412"
      ]
     },
     "execution_count": 25,
     "metadata": {},
     "output_type": "execute_result"
    }
   ],
   "source": [
    "# how much of our df contains more than 95% nulls\n",
    "(((df_outremoved.isnull().sum()/df_outremoved.shape[0])>.98).sum())/df_outremoved.shape[1]"
   ]
  },
  {
   "cell_type": "code",
   "execution_count": 26,
   "id": "83e941a8",
   "metadata": {},
   "outputs": [
    {
     "data": {
      "text/plain": [
       "count       68\n",
       "unique       2\n",
       "top       True\n",
       "freq        34\n",
       "dtype: object"
      ]
     },
     "execution_count": 26,
     "metadata": {},
     "output_type": "execute_result"
    }
   ],
   "source": [
    "((df_outremoved.isnull().sum()/df_outremoved.shape[0])>.5).describe()\n"
   ]
  },
  {
   "cell_type": "markdown",
   "id": "63670143",
   "metadata": {},
   "source": [
    "Takeaway: Half of the df columns contain more than 50% null values, 25% more then 98%. The obvious decision is to drop the top quartile but what about the 3rd quartile?"
   ]
  },
  {
   "cell_type": "code",
   "execution_count": 27,
   "id": "c24d0682",
   "metadata": {},
   "outputs": [],
   "source": [
    "def handle_missing_values(df, col_perc, row_perc):\n",
    "    ''' \n",
    "        take in a dataframe and percent null paramerters, returns df eliminating nulls by inputed threshold\n",
    "    '''\n",
    "    col_thresh = int(round(col_perc*df.shape[0],0)) # calc column threshold\n",
    "    \n",
    "    df.dropna(axis=1, thresh=col_thresh, inplace=True) # drop columns with non-nulls less than threshold\n",
    "    \n",
    "    row_thresh = int(round(row_perc*df.shape[1],0))  # calc row threshhold\n",
    "    \n",
    "    df.dropna(axis=0, thresh=row_thresh, inplace=True) # drop columns with non-nulls less than threshold\n",
    "    \n",
    "    return df"
   ]
  },
  {
   "cell_type": "code",
   "execution_count": 28,
   "id": "94121e2d",
   "metadata": {},
   "outputs": [],
   "source": [
    "df_dropna = handle_missing_values(df_outremoved, .5, .5)\n"
   ]
  },
  {
   "cell_type": "code",
   "execution_count": 29,
   "id": "2616e8a7",
   "metadata": {},
   "outputs": [
    {
     "data": {
      "text/plain": [
       "(48324, 34)"
      ]
     },
     "execution_count": 29,
     "metadata": {},
     "output_type": "execute_result"
    }
   ],
   "source": [
    "df_dropna.shape"
   ]
  },
  {
   "cell_type": "markdown",
   "id": "2132904c",
   "metadata": {},
   "source": [
    "handle the remaining missing values:\n",
    "\n",
    "- Fill with constant value.\n",
    "- Impute with mean, median, mode.\n",
    "- Drop row/column"
   ]
  },
  {
   "cell_type": "code",
   "execution_count": 30,
   "id": "d3280e72",
   "metadata": {},
   "outputs": [
    {
     "data": {
      "text/plain": [
       "heatingorsystemtypeid         0.347012\n",
       "buildingqualitytypeid         0.348688\n",
       "calculatedbathnbr             0.000290\n",
       "finishedsquarefeet12          0.003187\n",
       "fullbathcnt                   0.000290\n",
       "lotsizesquarefeet             0.005215\n",
       "propertyzoningdesc            0.348916\n",
       "regionidcity                  0.018645\n",
       "regionidzip                   0.000372\n",
       "unitcnt                       0.348522\n",
       "yearbuilt                     0.000497\n",
       "structuretaxvaluedollarcnt    0.001262\n",
       "taxvaluedollarcnt             0.000021\n",
       "landtaxvaluedollarcnt         0.000021\n",
       "taxamount                     0.000083\n",
       "censustractandblock           0.001697\n",
       "heatingorsystemdesc           0.347012\n",
       "dtype: float64"
      ]
     },
     "execution_count": 30,
     "metadata": {},
     "output_type": "execute_result"
    }
   ],
   "source": [
    "# See how much of \n",
    "(df_dropna.isnull().sum()[df_dropna.isnull().sum()>0])/df_dropna.shape[0]"
   ]
  },
  {
   "cell_type": "code",
   "execution_count": 31,
   "id": "83831023",
   "metadata": {},
   "outputs": [
    {
     "name": "stdout",
     "output_type": "stream",
     "text": [
      "heatingorsystemtypeid\n",
      "count    31555.000000\n",
      "mean         4.023419\n",
      "std          2.558857\n",
      "min          1.000000\n",
      "25%          2.000000\n",
      "50%          2.000000\n",
      "75%          7.000000\n",
      "max         24.000000\n",
      "Name: heatingorsystemtypeid, dtype: float64\n",
      "buildingqualitytypeid\n",
      "count    31474.000000\n",
      "mean         6.145898\n",
      "std          1.591809\n",
      "min          1.000000\n",
      "25%          4.000000\n",
      "50%          6.000000\n",
      "75%          8.000000\n",
      "max         12.000000\n",
      "Name: buildingqualitytypeid, dtype: float64\n",
      "propertyzoningdesc\n",
      "count     31463\n",
      "unique     1229\n",
      "top        LAR1\n",
      "freq       6109\n",
      "Name: propertyzoningdesc, dtype: object\n",
      "unitcnt\n",
      "count    31482.000000\n",
      "mean         1.000635\n",
      "std          0.026428\n",
      "min          1.000000\n",
      "25%          1.000000\n",
      "50%          1.000000\n",
      "75%          1.000000\n",
      "max          3.000000\n",
      "Name: unitcnt, dtype: float64\n",
      "heatingorsystemdesc\n",
      "count       31555\n",
      "unique          9\n",
      "top       Central\n",
      "freq        18894\n",
      "Name: heatingorsystemdesc, dtype: object\n"
     ]
    }
   ],
   "source": [
    "review = ['heatingorsystemtypeid', 'buildingqualitytypeid', 'propertyzoningdesc', 'unitcnt', 'heatingorsystemdesc']\n",
    "\n",
    "for col in review:\n",
    "    print(col)\n",
    "    print(df_dropna[col].describe())\n"
   ]
  },
  {
   "cell_type": "markdown",
   "id": "288d490a",
   "metadata": {},
   "source": [
    "Takeaways: reviewing data, looks too many to try and impute in most columns. Unitcnt worth investigating as it looks as though 2s may be small outliers.\n",
    "\n"
   ]
  },
  {
   "cell_type": "code",
   "execution_count": 32,
   "id": "26d65afb",
   "metadata": {},
   "outputs": [
    {
     "data": {
      "text/plain": [
       "1.0    31463\n",
       "2.0       18\n",
       "3.0        1\n",
       "Name: unitcnt, dtype: int64"
      ]
     },
     "execution_count": 32,
     "metadata": {},
     "output_type": "execute_result"
    }
   ],
   "source": [
    "# reviewing data, looks too many to try and impute in most column\n",
    "df_dropna.unitcnt.value_counts()"
   ]
  },
  {
   "cell_type": "code",
   "execution_count": 33,
   "id": "25a3dd08",
   "metadata": {},
   "outputs": [],
   "source": [
    "# small number of 2s and 3s so changing to mode of 1\n",
    "df_dropna['unitcnt'] = df_dropna['unitcnt'].replace({3:1, 2:1})"
   ]
  },
  {
   "cell_type": "code",
   "execution_count": 34,
   "id": "d541ba51",
   "metadata": {},
   "outputs": [
    {
     "data": {
      "text/plain": [
       "count    31482.0\n",
       "mean         1.0\n",
       "std          0.0\n",
       "min          1.0\n",
       "25%          1.0\n",
       "50%          1.0\n",
       "75%          1.0\n",
       "max          1.0\n",
       "Name: unitcnt, dtype: float64"
      ]
     },
     "execution_count": 34,
     "metadata": {},
     "output_type": "execute_result"
    }
   ],
   "source": [
    "# check operation\n",
    "df_dropna.unitcnt.describe()\n"
   ]
  },
  {
   "cell_type": "code",
   "execution_count": 35,
   "id": "90662f10",
   "metadata": {},
   "outputs": [],
   "source": [
    "# drop all columns, even though able to change qty in unitcnt its not providing any value w/identical data\n",
    "df_dropna = df_dropna.drop(columns=['heatingorsystemtypeid', 'buildingqualitytypeid', 'propertyzoningdesc', 'unitcnt', 'heatingorsystemdesc'])"
   ]
  },
  {
   "cell_type": "code",
   "execution_count": 36,
   "id": "3728f646",
   "metadata": {},
   "outputs": [
    {
     "data": {
      "text/plain": [
       "(48324, 29)"
      ]
     },
     "execution_count": 36,
     "metadata": {},
     "output_type": "execute_result"
    }
   ],
   "source": [
    "#check shape\n",
    "df_dropna.shape\n"
   ]
  },
  {
   "cell_type": "code",
   "execution_count": 37,
   "id": "fe7c960d",
   "metadata": {},
   "outputs": [
    {
     "data": {
      "text/plain": [
       "calculatedbathnbr               0.000290\n",
       "calculatedfinishedsquarefeet    0.000000\n",
       "finishedsquarefeet12            0.003187\n",
       "fullbathcnt                     0.000290\n",
       "lotsizesquarefeet               0.005215\n",
       "regionidcity                    0.018645\n",
       "regionidzip                     0.000372\n",
       "yearbuilt                       0.000497\n",
       "structuretaxvaluedollarcnt      0.001262\n",
       "taxvaluedollarcnt               0.000021\n",
       "landtaxvaluedollarcnt           0.000021\n",
       "taxamount                       0.000083\n",
       "censustractandblock             0.001697\n",
       "dtype: float64"
      ]
     },
     "execution_count": 37,
     "metadata": {},
     "output_type": "execute_result"
    }
   ],
   "source": [
    "# look at remaining nulls as % \n",
    "(df_dropna.isnull().sum()[df.isnull().sum()>0])/df_dropna.shape[0] # look at remaining nulls"
   ]
  },
  {
   "cell_type": "code",
   "execution_count": 38,
   "id": "84f1a647",
   "metadata": {},
   "outputs": [],
   "source": [
    "discrete_col = ['calculatedbathnbr', 'fullbathcnt', 'regionidcity', 'regionidzip', 'yearbuilt', 'censustractandblock']\n",
    "cont_col = ['calculatedfinishedsquarefeet', 'finishedsquarefeet12', 'lotsizesquarefeet', 'structuretaxvaluedollarcnt', 'taxvaluedollarcnt', 'landtaxvaluedollarcnt', 'taxamount']"
   ]
  },
  {
   "cell_type": "code",
   "execution_count": 39,
   "id": "a5d2c27f",
   "metadata": {},
   "outputs": [
    {
     "name": "stdout",
     "output_type": "stream",
     "text": [
      "train -> (27061, 29)\n",
      "validate -> (11598, 29)\n",
      "test -> (9665, 29)\n"
     ]
    }
   ],
   "source": [
    "# percentage nulls small enough that imputing mean shouldn't be an issue, split data first\n",
    "import acquire\n",
    "from sklearn.model_selection import train_test_split\n",
    "X_train, X_validate, X_test = acquire.split_continuous(df_dropna)"
   ]
  },
  {
   "cell_type": "code",
   "execution_count": 40,
   "id": "d48ee24b",
   "metadata": {},
   "outputs": [
    {
     "data": {
      "text/plain": [
       "((27061, 29), (11598, 29), (9665, 29))"
      ]
     },
     "execution_count": 40,
     "metadata": {},
     "output_type": "execute_result"
    }
   ],
   "source": [
    "#control check\n",
    "X_train.shape, X_validate.shape, X_test.shape"
   ]
  },
  {
   "cell_type": "code",
   "execution_count": 41,
   "id": "316fed82",
   "metadata": {},
   "outputs": [],
   "source": [
    "# impute mean on split data\n"
   ]
  },
  {
   "cell_type": "code",
   "execution_count": 42,
   "id": "1dcc9e2e",
   "metadata": {},
   "outputs": [],
   "source": [
    "from sklearn.impute import SimpleImputer\n",
    "def impute(df, my_strategy, column_list):\n",
    "    ''' take in a df, strategy, and cloumn list\n",
    "        return df with listed columns imputed using input stratagy\n",
    "    '''\n",
    "        \n",
    "    imputer = SimpleImputer(strategy=my_strategy)  # build imputer\n",
    "\n",
    "    df[column_list] = imputer.fit_transform(df[column_list]) # fit/transform selected columns\n",
    "\n",
    "    return df"
   ]
  },
  {
   "cell_type": "code",
   "execution_count": 43,
   "id": "206cd06a",
   "metadata": {},
   "outputs": [
    {
     "data": {
      "text/html": [
       "<div>\n",
       "<style scoped>\n",
       "    .dataframe tbody tr th:only-of-type {\n",
       "        vertical-align: middle;\n",
       "    }\n",
       "\n",
       "    .dataframe tbody tr th {\n",
       "        vertical-align: top;\n",
       "    }\n",
       "\n",
       "    .dataframe thead th {\n",
       "        text-align: right;\n",
       "    }\n",
       "</style>\n",
       "<table border=\"1\" class=\"dataframe\">\n",
       "  <thead>\n",
       "    <tr style=\"text-align: right;\">\n",
       "      <th></th>\n",
       "      <th>propertylandusetypeid</th>\n",
       "      <th>parcelid</th>\n",
       "      <th>id</th>\n",
       "      <th>logerror</th>\n",
       "      <th>transactiondate</th>\n",
       "      <th>bathroomcnt</th>\n",
       "      <th>bedroomcnt</th>\n",
       "      <th>calculatedbathnbr</th>\n",
       "      <th>calculatedfinishedsquarefeet</th>\n",
       "      <th>finishedsquarefeet12</th>\n",
       "      <th>...</th>\n",
       "      <th>regionidzip</th>\n",
       "      <th>roomcnt</th>\n",
       "      <th>yearbuilt</th>\n",
       "      <th>structuretaxvaluedollarcnt</th>\n",
       "      <th>taxvaluedollarcnt</th>\n",
       "      <th>assessmentyear</th>\n",
       "      <th>landtaxvaluedollarcnt</th>\n",
       "      <th>taxamount</th>\n",
       "      <th>censustractandblock</th>\n",
       "      <th>propertylandusedesc</th>\n",
       "    </tr>\n",
       "  </thead>\n",
       "  <tbody>\n",
       "    <tr>\n",
       "      <th>43719</th>\n",
       "      <td>261.0</td>\n",
       "      <td>12905668</td>\n",
       "      <td>43738</td>\n",
       "      <td>0.037384</td>\n",
       "      <td>2017-06-06</td>\n",
       "      <td>1.0</td>\n",
       "      <td>3.0</td>\n",
       "      <td>1.0</td>\n",
       "      <td>1040.0</td>\n",
       "      <td>1040.0</td>\n",
       "      <td>...</td>\n",
       "      <td>96513.0</td>\n",
       "      <td>0.0</td>\n",
       "      <td>1960.0</td>\n",
       "      <td>88462.0</td>\n",
       "      <td>212786.0</td>\n",
       "      <td>2016.0</td>\n",
       "      <td>124324.0</td>\n",
       "      <td>2764.04</td>\n",
       "      <td>6.037401e+13</td>\n",
       "      <td>Single Family Residential</td>\n",
       "    </tr>\n",
       "    <tr>\n",
       "      <th>11180</th>\n",
       "      <td>261.0</td>\n",
       "      <td>13845841</td>\n",
       "      <td>11189</td>\n",
       "      <td>-0.212690</td>\n",
       "      <td>2017-02-21</td>\n",
       "      <td>1.0</td>\n",
       "      <td>2.0</td>\n",
       "      <td>1.0</td>\n",
       "      <td>940.0</td>\n",
       "      <td>NaN</td>\n",
       "      <td>...</td>\n",
       "      <td>97007.0</td>\n",
       "      <td>5.0</td>\n",
       "      <td>1923.0</td>\n",
       "      <td>83687.0</td>\n",
       "      <td>341726.0</td>\n",
       "      <td>2016.0</td>\n",
       "      <td>258039.0</td>\n",
       "      <td>4290.44</td>\n",
       "      <td>6.059075e+13</td>\n",
       "      <td>Single Family Residential</td>\n",
       "    </tr>\n",
       "    <tr>\n",
       "      <th>40449</th>\n",
       "      <td>261.0</td>\n",
       "      <td>12572315</td>\n",
       "      <td>40466</td>\n",
       "      <td>0.019696</td>\n",
       "      <td>2017-05-26</td>\n",
       "      <td>1.0</td>\n",
       "      <td>2.0</td>\n",
       "      <td>1.0</td>\n",
       "      <td>920.0</td>\n",
       "      <td>920.0</td>\n",
       "      <td>...</td>\n",
       "      <td>96244.0</td>\n",
       "      <td>0.0</td>\n",
       "      <td>1949.0</td>\n",
       "      <td>72058.0</td>\n",
       "      <td>252211.0</td>\n",
       "      <td>2016.0</td>\n",
       "      <td>180153.0</td>\n",
       "      <td>3174.08</td>\n",
       "      <td>6.037572e+13</td>\n",
       "      <td>Single Family Residential</td>\n",
       "    </tr>\n",
       "    <tr>\n",
       "      <th>1438</th>\n",
       "      <td>261.0</td>\n",
       "      <td>14141443</td>\n",
       "      <td>1440</td>\n",
       "      <td>-0.014025</td>\n",
       "      <td>2017-01-08</td>\n",
       "      <td>2.0</td>\n",
       "      <td>4.0</td>\n",
       "      <td>2.0</td>\n",
       "      <td>2161.0</td>\n",
       "      <td>2161.0</td>\n",
       "      <td>...</td>\n",
       "      <td>97041.0</td>\n",
       "      <td>8.0</td>\n",
       "      <td>1963.0</td>\n",
       "      <td>137636.0</td>\n",
       "      <td>727872.0</td>\n",
       "      <td>2016.0</td>\n",
       "      <td>590236.0</td>\n",
       "      <td>8231.08</td>\n",
       "      <td>6.059002e+13</td>\n",
       "      <td>Single Family Residential</td>\n",
       "    </tr>\n",
       "    <tr>\n",
       "      <th>27381</th>\n",
       "      <td>261.0</td>\n",
       "      <td>11071734</td>\n",
       "      <td>27395</td>\n",
       "      <td>0.101635</td>\n",
       "      <td>2017-04-18</td>\n",
       "      <td>2.0</td>\n",
       "      <td>4.0</td>\n",
       "      <td>2.0</td>\n",
       "      <td>1823.0</td>\n",
       "      <td>1823.0</td>\n",
       "      <td>...</td>\n",
       "      <td>96346.0</td>\n",
       "      <td>0.0</td>\n",
       "      <td>1962.0</td>\n",
       "      <td>181218.0</td>\n",
       "      <td>516730.0</td>\n",
       "      <td>2016.0</td>\n",
       "      <td>335512.0</td>\n",
       "      <td>6430.03</td>\n",
       "      <td>6.037113e+13</td>\n",
       "      <td>Single Family Residential</td>\n",
       "    </tr>\n",
       "  </tbody>\n",
       "</table>\n",
       "<p>5 rows × 29 columns</p>\n",
       "</div>"
      ],
      "text/plain": [
       "       propertylandusetypeid  parcelid     id  logerror transactiondate  \\\n",
       "43719                  261.0  12905668  43738  0.037384      2017-06-06   \n",
       "11180                  261.0  13845841  11189 -0.212690      2017-02-21   \n",
       "40449                  261.0  12572315  40466  0.019696      2017-05-26   \n",
       "1438                   261.0  14141443   1440 -0.014025      2017-01-08   \n",
       "27381                  261.0  11071734  27395  0.101635      2017-04-18   \n",
       "\n",
       "       bathroomcnt  bedroomcnt  calculatedbathnbr  \\\n",
       "43719          1.0         3.0                1.0   \n",
       "11180          1.0         2.0                1.0   \n",
       "40449          1.0         2.0                1.0   \n",
       "1438           2.0         4.0                2.0   \n",
       "27381          2.0         4.0                2.0   \n",
       "\n",
       "       calculatedfinishedsquarefeet  finishedsquarefeet12  ...  regionidzip  \\\n",
       "43719                        1040.0                1040.0  ...      96513.0   \n",
       "11180                         940.0                   NaN  ...      97007.0   \n",
       "40449                         920.0                 920.0  ...      96244.0   \n",
       "1438                         2161.0                2161.0  ...      97041.0   \n",
       "27381                        1823.0                1823.0  ...      96346.0   \n",
       "\n",
       "       roomcnt  yearbuilt  structuretaxvaluedollarcnt  taxvaluedollarcnt  \\\n",
       "43719      0.0     1960.0                     88462.0           212786.0   \n",
       "11180      5.0     1923.0                     83687.0           341726.0   \n",
       "40449      0.0     1949.0                     72058.0           252211.0   \n",
       "1438       8.0     1963.0                    137636.0           727872.0   \n",
       "27381      0.0     1962.0                    181218.0           516730.0   \n",
       "\n",
       "      assessmentyear  landtaxvaluedollarcnt  taxamount  censustractandblock  \\\n",
       "43719         2016.0               124324.0    2764.04         6.037401e+13   \n",
       "11180         2016.0               258039.0    4290.44         6.059075e+13   \n",
       "40449         2016.0               180153.0    3174.08         6.037572e+13   \n",
       "1438          2016.0               590236.0    8231.08         6.059002e+13   \n",
       "27381         2016.0               335512.0    6430.03         6.037113e+13   \n",
       "\n",
       "             propertylandusedesc  \n",
       "43719  Single Family Residential  \n",
       "11180  Single Family Residential  \n",
       "40449  Single Family Residential  \n",
       "1438   Single Family Residential  \n",
       "27381  Single Family Residential  \n",
       "\n",
       "[5 rows x 29 columns]"
      ]
     },
     "execution_count": 43,
     "metadata": {},
     "output_type": "execute_result"
    }
   ],
   "source": [
    "# split data (discrete)\n",
    "impute(X_train, 'most_frequent', discrete_col).head()"
   ]
  },
  {
   "cell_type": "code",
   "execution_count": 44,
   "id": "d68dbdf7",
   "metadata": {},
   "outputs": [
    {
     "data": {
      "text/html": [
       "<div>\n",
       "<style scoped>\n",
       "    .dataframe tbody tr th:only-of-type {\n",
       "        vertical-align: middle;\n",
       "    }\n",
       "\n",
       "    .dataframe tbody tr th {\n",
       "        vertical-align: top;\n",
       "    }\n",
       "\n",
       "    .dataframe thead th {\n",
       "        text-align: right;\n",
       "    }\n",
       "</style>\n",
       "<table border=\"1\" class=\"dataframe\">\n",
       "  <thead>\n",
       "    <tr style=\"text-align: right;\">\n",
       "      <th></th>\n",
       "      <th>propertylandusetypeid</th>\n",
       "      <th>parcelid</th>\n",
       "      <th>id</th>\n",
       "      <th>logerror</th>\n",
       "      <th>transactiondate</th>\n",
       "      <th>bathroomcnt</th>\n",
       "      <th>bedroomcnt</th>\n",
       "      <th>calculatedbathnbr</th>\n",
       "      <th>calculatedfinishedsquarefeet</th>\n",
       "      <th>finishedsquarefeet12</th>\n",
       "      <th>...</th>\n",
       "      <th>regionidzip</th>\n",
       "      <th>roomcnt</th>\n",
       "      <th>yearbuilt</th>\n",
       "      <th>structuretaxvaluedollarcnt</th>\n",
       "      <th>taxvaluedollarcnt</th>\n",
       "      <th>assessmentyear</th>\n",
       "      <th>landtaxvaluedollarcnt</th>\n",
       "      <th>taxamount</th>\n",
       "      <th>censustractandblock</th>\n",
       "      <th>propertylandusedesc</th>\n",
       "    </tr>\n",
       "  </thead>\n",
       "  <tbody>\n",
       "    <tr>\n",
       "      <th>43719</th>\n",
       "      <td>261.0</td>\n",
       "      <td>12905668</td>\n",
       "      <td>43738</td>\n",
       "      <td>0.037384</td>\n",
       "      <td>2017-06-06</td>\n",
       "      <td>1.0</td>\n",
       "      <td>3.0</td>\n",
       "      <td>1.0</td>\n",
       "      <td>1040.0</td>\n",
       "      <td>1040.000000</td>\n",
       "      <td>...</td>\n",
       "      <td>96513.0</td>\n",
       "      <td>0.0</td>\n",
       "      <td>1960.0</td>\n",
       "      <td>88462.0</td>\n",
       "      <td>212786.0</td>\n",
       "      <td>2016.0</td>\n",
       "      <td>124324.0</td>\n",
       "      <td>2764.04</td>\n",
       "      <td>6.037401e+13</td>\n",
       "      <td>Single Family Residential</td>\n",
       "    </tr>\n",
       "    <tr>\n",
       "      <th>11180</th>\n",
       "      <td>261.0</td>\n",
       "      <td>13845841</td>\n",
       "      <td>11189</td>\n",
       "      <td>-0.212690</td>\n",
       "      <td>2017-02-21</td>\n",
       "      <td>1.0</td>\n",
       "      <td>2.0</td>\n",
       "      <td>1.0</td>\n",
       "      <td>940.0</td>\n",
       "      <td>1759.171386</td>\n",
       "      <td>...</td>\n",
       "      <td>97007.0</td>\n",
       "      <td>5.0</td>\n",
       "      <td>1923.0</td>\n",
       "      <td>83687.0</td>\n",
       "      <td>341726.0</td>\n",
       "      <td>2016.0</td>\n",
       "      <td>258039.0</td>\n",
       "      <td>4290.44</td>\n",
       "      <td>6.059075e+13</td>\n",
       "      <td>Single Family Residential</td>\n",
       "    </tr>\n",
       "    <tr>\n",
       "      <th>40449</th>\n",
       "      <td>261.0</td>\n",
       "      <td>12572315</td>\n",
       "      <td>40466</td>\n",
       "      <td>0.019696</td>\n",
       "      <td>2017-05-26</td>\n",
       "      <td>1.0</td>\n",
       "      <td>2.0</td>\n",
       "      <td>1.0</td>\n",
       "      <td>920.0</td>\n",
       "      <td>920.000000</td>\n",
       "      <td>...</td>\n",
       "      <td>96244.0</td>\n",
       "      <td>0.0</td>\n",
       "      <td>1949.0</td>\n",
       "      <td>72058.0</td>\n",
       "      <td>252211.0</td>\n",
       "      <td>2016.0</td>\n",
       "      <td>180153.0</td>\n",
       "      <td>3174.08</td>\n",
       "      <td>6.037572e+13</td>\n",
       "      <td>Single Family Residential</td>\n",
       "    </tr>\n",
       "    <tr>\n",
       "      <th>1438</th>\n",
       "      <td>261.0</td>\n",
       "      <td>14141443</td>\n",
       "      <td>1440</td>\n",
       "      <td>-0.014025</td>\n",
       "      <td>2017-01-08</td>\n",
       "      <td>2.0</td>\n",
       "      <td>4.0</td>\n",
       "      <td>2.0</td>\n",
       "      <td>2161.0</td>\n",
       "      <td>2161.000000</td>\n",
       "      <td>...</td>\n",
       "      <td>97041.0</td>\n",
       "      <td>8.0</td>\n",
       "      <td>1963.0</td>\n",
       "      <td>137636.0</td>\n",
       "      <td>727872.0</td>\n",
       "      <td>2016.0</td>\n",
       "      <td>590236.0</td>\n",
       "      <td>8231.08</td>\n",
       "      <td>6.059002e+13</td>\n",
       "      <td>Single Family Residential</td>\n",
       "    </tr>\n",
       "    <tr>\n",
       "      <th>27381</th>\n",
       "      <td>261.0</td>\n",
       "      <td>11071734</td>\n",
       "      <td>27395</td>\n",
       "      <td>0.101635</td>\n",
       "      <td>2017-04-18</td>\n",
       "      <td>2.0</td>\n",
       "      <td>4.0</td>\n",
       "      <td>2.0</td>\n",
       "      <td>1823.0</td>\n",
       "      <td>1823.000000</td>\n",
       "      <td>...</td>\n",
       "      <td>96346.0</td>\n",
       "      <td>0.0</td>\n",
       "      <td>1962.0</td>\n",
       "      <td>181218.0</td>\n",
       "      <td>516730.0</td>\n",
       "      <td>2016.0</td>\n",
       "      <td>335512.0</td>\n",
       "      <td>6430.03</td>\n",
       "      <td>6.037113e+13</td>\n",
       "      <td>Single Family Residential</td>\n",
       "    </tr>\n",
       "  </tbody>\n",
       "</table>\n",
       "<p>5 rows × 29 columns</p>\n",
       "</div>"
      ],
      "text/plain": [
       "       propertylandusetypeid  parcelid     id  logerror transactiondate  \\\n",
       "43719                  261.0  12905668  43738  0.037384      2017-06-06   \n",
       "11180                  261.0  13845841  11189 -0.212690      2017-02-21   \n",
       "40449                  261.0  12572315  40466  0.019696      2017-05-26   \n",
       "1438                   261.0  14141443   1440 -0.014025      2017-01-08   \n",
       "27381                  261.0  11071734  27395  0.101635      2017-04-18   \n",
       "\n",
       "       bathroomcnt  bedroomcnt  calculatedbathnbr  \\\n",
       "43719          1.0         3.0                1.0   \n",
       "11180          1.0         2.0                1.0   \n",
       "40449          1.0         2.0                1.0   \n",
       "1438           2.0         4.0                2.0   \n",
       "27381          2.0         4.0                2.0   \n",
       "\n",
       "       calculatedfinishedsquarefeet  finishedsquarefeet12  ...  regionidzip  \\\n",
       "43719                        1040.0           1040.000000  ...      96513.0   \n",
       "11180                         940.0           1759.171386  ...      97007.0   \n",
       "40449                         920.0            920.000000  ...      96244.0   \n",
       "1438                         2161.0           2161.000000  ...      97041.0   \n",
       "27381                        1823.0           1823.000000  ...      96346.0   \n",
       "\n",
       "       roomcnt  yearbuilt  structuretaxvaluedollarcnt  taxvaluedollarcnt  \\\n",
       "43719      0.0     1960.0                     88462.0           212786.0   \n",
       "11180      5.0     1923.0                     83687.0           341726.0   \n",
       "40449      0.0     1949.0                     72058.0           252211.0   \n",
       "1438       8.0     1963.0                    137636.0           727872.0   \n",
       "27381      0.0     1962.0                    181218.0           516730.0   \n",
       "\n",
       "      assessmentyear  landtaxvaluedollarcnt  taxamount  censustractandblock  \\\n",
       "43719         2016.0               124324.0    2764.04         6.037401e+13   \n",
       "11180         2016.0               258039.0    4290.44         6.059075e+13   \n",
       "40449         2016.0               180153.0    3174.08         6.037572e+13   \n",
       "1438          2016.0               590236.0    8231.08         6.059002e+13   \n",
       "27381         2016.0               335512.0    6430.03         6.037113e+13   \n",
       "\n",
       "             propertylandusedesc  \n",
       "43719  Single Family Residential  \n",
       "11180  Single Family Residential  \n",
       "40449  Single Family Residential  \n",
       "1438   Single Family Residential  \n",
       "27381  Single Family Residential  \n",
       "\n",
       "[5 rows x 29 columns]"
      ]
     },
     "execution_count": 44,
     "metadata": {},
     "output_type": "execute_result"
    }
   ],
   "source": [
    "# split data (continuous)\n",
    "impute(X_train, 'mean', cont_col).head()"
   ]
  },
  {
   "cell_type": "code",
   "execution_count": 45,
   "id": "f9569a1f",
   "metadata": {},
   "outputs": [
    {
     "data": {
      "text/plain": [
       "propertylandusetypeid           0\n",
       "parcelid                        0\n",
       "id                              0\n",
       "logerror                        0\n",
       "transactiondate                 0\n",
       "bathroomcnt                     0\n",
       "bedroomcnt                      0\n",
       "calculatedbathnbr               0\n",
       "calculatedfinishedsquarefeet    0\n",
       "finishedsquarefeet12            0\n",
       "fips                            0\n",
       "fullbathcnt                     0\n",
       "latitude                        0\n",
       "longitude                       0\n",
       "lotsizesquarefeet               0\n",
       "propertycountylandusecode       0\n",
       "rawcensustractandblock          0\n",
       "regionidcity                    0\n",
       "regionidcounty                  0\n",
       "regionidzip                     0\n",
       "roomcnt                         0\n",
       "yearbuilt                       0\n",
       "structuretaxvaluedollarcnt      0\n",
       "taxvaluedollarcnt               0\n",
       "assessmentyear                  0\n",
       "landtaxvaluedollarcnt           0\n",
       "taxamount                       0\n",
       "censustractandblock             0\n",
       "propertylandusedesc             0\n",
       "dtype: int64"
      ]
     },
     "execution_count": 45,
     "metadata": {},
     "output_type": "execute_result"
    }
   ],
   "source": [
    "# control check\n",
    "X_train.isnull().sum()"
   ]
  },
  {
   "cell_type": "markdown",
   "id": "5cb91f25",
   "metadata": {},
   "source": [
    "### repeat for X_validate & X_test\n",
    "\n",
    "impute(X_validate, 'most_frequent', discrete_col) impute(X_test, 'most_frequent', discrete_col) impute(X_validate, 'mean', cont_col) impute(X_test, 'mean', cont_col)"
   ]
  },
  {
   "cell_type": "code",
   "execution_count": 46,
   "id": "6e4b3d5e",
   "metadata": {},
   "outputs": [
    {
     "data": {
      "text/plain": [
       "((27061, 29), (11598, 29), (9665, 29))"
      ]
     },
     "execution_count": 46,
     "metadata": {},
     "output_type": "execute_result"
    }
   ],
   "source": [
    "#control check 1\n",
    "X_train.shape, X_validate.shape, X_test.shape"
   ]
  },
  {
   "cell_type": "markdown",
   "id": "1b55cb15",
   "metadata": {},
   "source": [
    "# Q3\n",
    "Encapsulate your work inside of functions in a wrangle_zillow.py module.\n",
    " - created wrangle_zillow.py function."
   ]
  },
  {
   "cell_type": "markdown",
   "id": "8b647744",
   "metadata": {},
   "source": [
    "# Mall Data\n",
    "## Q1) Acquire data from mall_customers.customers in mysql database.\n",
    "\n"
   ]
  },
  {
   "cell_type": "code",
   "execution_count": 47,
   "id": "9ff00789",
   "metadata": {},
   "outputs": [],
   "source": [
    "# Acquire data\n",
    "df = wrangle_mall.get_mall_data()"
   ]
  },
  {
   "cell_type": "code",
   "execution_count": 48,
   "id": "ebcbe80c",
   "metadata": {},
   "outputs": [
    {
     "data": {
      "text/html": [
       "<div>\n",
       "<style scoped>\n",
       "    .dataframe tbody tr th:only-of-type {\n",
       "        vertical-align: middle;\n",
       "    }\n",
       "\n",
       "    .dataframe tbody tr th {\n",
       "        vertical-align: top;\n",
       "    }\n",
       "\n",
       "    .dataframe thead th {\n",
       "        text-align: right;\n",
       "    }\n",
       "</style>\n",
       "<table border=\"1\" class=\"dataframe\">\n",
       "  <thead>\n",
       "    <tr style=\"text-align: right;\">\n",
       "      <th></th>\n",
       "      <th>customer_id</th>\n",
       "      <th>gender</th>\n",
       "      <th>age</th>\n",
       "      <th>annual_income</th>\n",
       "      <th>spending_score</th>\n",
       "    </tr>\n",
       "  </thead>\n",
       "  <tbody>\n",
       "    <tr>\n",
       "      <th>0</th>\n",
       "      <td>1</td>\n",
       "      <td>Male</td>\n",
       "      <td>19</td>\n",
       "      <td>15</td>\n",
       "      <td>39</td>\n",
       "    </tr>\n",
       "    <tr>\n",
       "      <th>1</th>\n",
       "      <td>2</td>\n",
       "      <td>Male</td>\n",
       "      <td>21</td>\n",
       "      <td>15</td>\n",
       "      <td>81</td>\n",
       "    </tr>\n",
       "    <tr>\n",
       "      <th>2</th>\n",
       "      <td>3</td>\n",
       "      <td>Female</td>\n",
       "      <td>20</td>\n",
       "      <td>16</td>\n",
       "      <td>6</td>\n",
       "    </tr>\n",
       "    <tr>\n",
       "      <th>3</th>\n",
       "      <td>4</td>\n",
       "      <td>Female</td>\n",
       "      <td>23</td>\n",
       "      <td>16</td>\n",
       "      <td>77</td>\n",
       "    </tr>\n",
       "    <tr>\n",
       "      <th>4</th>\n",
       "      <td>5</td>\n",
       "      <td>Female</td>\n",
       "      <td>31</td>\n",
       "      <td>17</td>\n",
       "      <td>40</td>\n",
       "    </tr>\n",
       "  </tbody>\n",
       "</table>\n",
       "</div>"
      ],
      "text/plain": [
       "   customer_id  gender  age  annual_income  spending_score\n",
       "0            1    Male   19             15              39\n",
       "1            2    Male   21             15              81\n",
       "2            3  Female   20             16               6\n",
       "3            4  Female   23             16              77\n",
       "4            5  Female   31             17              40"
      ]
     },
     "execution_count": 48,
     "metadata": {},
     "output_type": "execute_result"
    }
   ],
   "source": [
    "df.head()\n"
   ]
  },
  {
   "cell_type": "markdown",
   "id": "d0c85abd",
   "metadata": {},
   "source": [
    "## Q2) \n",
    "Summarize data (include distributions and descriptive statistics)."
   ]
  },
  {
   "cell_type": "code",
   "execution_count": 49,
   "id": "196146b2",
   "metadata": {},
   "outputs": [
    {
     "name": "stdout",
     "output_type": "stream",
     "text": [
      "<class 'pandas.core.frame.DataFrame'>\n",
      "RangeIndex: 200 entries, 0 to 199\n",
      "Data columns (total 5 columns):\n",
      " #   Column          Non-Null Count  Dtype \n",
      "---  ------          --------------  ----- \n",
      " 0   customer_id     200 non-null    int64 \n",
      " 1   gender          200 non-null    object\n",
      " 2   age             200 non-null    int64 \n",
      " 3   annual_income   200 non-null    int64 \n",
      " 4   spending_score  200 non-null    int64 \n",
      "dtypes: int64(4), object(1)\n",
      "memory usage: 7.9+ KB\n"
     ]
    }
   ],
   "source": [
    "df.info()\n"
   ]
  },
  {
   "cell_type": "code",
   "execution_count": 50,
   "id": "9114240b",
   "metadata": {},
   "outputs": [
    {
     "data": {
      "text/html": [
       "<div>\n",
       "<style scoped>\n",
       "    .dataframe tbody tr th:only-of-type {\n",
       "        vertical-align: middle;\n",
       "    }\n",
       "\n",
       "    .dataframe tbody tr th {\n",
       "        vertical-align: top;\n",
       "    }\n",
       "\n",
       "    .dataframe thead th {\n",
       "        text-align: right;\n",
       "    }\n",
       "</style>\n",
       "<table border=\"1\" class=\"dataframe\">\n",
       "  <thead>\n",
       "    <tr style=\"text-align: right;\">\n",
       "      <th></th>\n",
       "      <th>customer_id</th>\n",
       "      <th>age</th>\n",
       "      <th>annual_income</th>\n",
       "      <th>spending_score</th>\n",
       "    </tr>\n",
       "  </thead>\n",
       "  <tbody>\n",
       "    <tr>\n",
       "      <th>count</th>\n",
       "      <td>200.000000</td>\n",
       "      <td>200.000000</td>\n",
       "      <td>200.000000</td>\n",
       "      <td>200.000000</td>\n",
       "    </tr>\n",
       "    <tr>\n",
       "      <th>mean</th>\n",
       "      <td>100.500000</td>\n",
       "      <td>38.850000</td>\n",
       "      <td>60.560000</td>\n",
       "      <td>50.200000</td>\n",
       "    </tr>\n",
       "    <tr>\n",
       "      <th>std</th>\n",
       "      <td>57.879185</td>\n",
       "      <td>13.969007</td>\n",
       "      <td>26.264721</td>\n",
       "      <td>25.823522</td>\n",
       "    </tr>\n",
       "    <tr>\n",
       "      <th>min</th>\n",
       "      <td>1.000000</td>\n",
       "      <td>18.000000</td>\n",
       "      <td>15.000000</td>\n",
       "      <td>1.000000</td>\n",
       "    </tr>\n",
       "    <tr>\n",
       "      <th>25%</th>\n",
       "      <td>50.750000</td>\n",
       "      <td>28.750000</td>\n",
       "      <td>41.500000</td>\n",
       "      <td>34.750000</td>\n",
       "    </tr>\n",
       "    <tr>\n",
       "      <th>50%</th>\n",
       "      <td>100.500000</td>\n",
       "      <td>36.000000</td>\n",
       "      <td>61.500000</td>\n",
       "      <td>50.000000</td>\n",
       "    </tr>\n",
       "    <tr>\n",
       "      <th>75%</th>\n",
       "      <td>150.250000</td>\n",
       "      <td>49.000000</td>\n",
       "      <td>78.000000</td>\n",
       "      <td>73.000000</td>\n",
       "    </tr>\n",
       "    <tr>\n",
       "      <th>max</th>\n",
       "      <td>200.000000</td>\n",
       "      <td>70.000000</td>\n",
       "      <td>137.000000</td>\n",
       "      <td>99.000000</td>\n",
       "    </tr>\n",
       "  </tbody>\n",
       "</table>\n",
       "</div>"
      ],
      "text/plain": [
       "       customer_id         age  annual_income  spending_score\n",
       "count   200.000000  200.000000     200.000000      200.000000\n",
       "mean    100.500000   38.850000      60.560000       50.200000\n",
       "std      57.879185   13.969007      26.264721       25.823522\n",
       "min       1.000000   18.000000      15.000000        1.000000\n",
       "25%      50.750000   28.750000      41.500000       34.750000\n",
       "50%     100.500000   36.000000      61.500000       50.000000\n",
       "75%     150.250000   49.000000      78.000000       73.000000\n",
       "max     200.000000   70.000000     137.000000       99.000000"
      ]
     },
     "execution_count": 50,
     "metadata": {},
     "output_type": "execute_result"
    }
   ],
   "source": [
    "df.describe()"
   ]
  },
  {
   "cell_type": "code",
   "execution_count": 51,
   "id": "fb20f540",
   "metadata": {},
   "outputs": [
    {
     "data": {
      "text/plain": [
       "customer_id        int64\n",
       "gender            object\n",
       "age                int64\n",
       "annual_income      int64\n",
       "spending_score     int64\n",
       "dtype: object"
      ]
     },
     "execution_count": 51,
     "metadata": {},
     "output_type": "execute_result"
    }
   ],
   "source": [
    "df.dtypes"
   ]
  },
  {
   "cell_type": "code",
   "execution_count": 52,
   "id": "b3241d51",
   "metadata": {},
   "outputs": [
    {
     "data": {
      "image/png": "[encoded data removed]",
      "text/plain": [
       "<Figure size 432x288 with 1 Axes>"
      ]
     },
     "metadata": {
      "needs_background": "light"
     },
     "output_type": "display_data"
    },
    {
     "data": {
      "image/png": "[encoded data removed]",
      "text/plain": [
       "<Figure size 432x288 with 1 Axes>"
      ]
     },
     "metadata": {
      "needs_background": "light"
     },
     "output_type": "display_data"
    },
    {
     "data": {
      "image/png": "[encoded data removed]",
      "text/plain": [
       "<Figure size 432x288 with 1 Axes>"
      ]
     },
     "metadata": {
      "needs_background": "light"
     },
     "output_type": "display_data"
    },
    {
     "data": {
      "image/png": "[encoded data removed]",
      "text/plain": [
       "<Figure size 432x288 with 1 Axes>"
      ]
     },
     "metadata": {
      "needs_background": "light"
     },
     "output_type": "display_data"
    }
   ],
   "source": [
    "# distribution of the data\n",
    "cont_cols = [col for col in df.columns if (df[col].dtype == 'int64') | (df[col].dtype == 'float64')]\n",
    "\n",
    "for col in cont_cols:\n",
    "    plt.hist(df[col])\n",
    "    plt.title(f\"{col} distribution\")\n",
    "    plt.show()"
   ]
  },
  {
   "cell_type": "code",
   "execution_count": 53,
   "id": "05d343f0",
   "metadata": {},
   "outputs": [
    {
     "name": "stdout",
     "output_type": "stream",
     "text": [
      "gender\n",
      "Female    112\n",
      "Male       88\n",
      "Name: gender, dtype: int64\n",
      "\n"
     ]
    }
   ],
   "source": [
    "# get value counts for discrete variables\n",
    "\n",
    "desc_cols = [col for col in df.columns if (df[col].dtype == \"object\")]\n",
    "\n",
    "for col in desc_cols:\n",
    "    \n",
    "    print(col)\n",
    "    print(df[col].value_counts())\n",
    "    print()"
   ]
  },
  {
   "cell_type": "markdown",
   "id": "0dccde34",
   "metadata": {},
   "source": [
    "## Q3)\n",
    "Detect outliers using IQR."
   ]
  },
  {
   "cell_type": "code",
   "execution_count": 54,
   "id": "4c65d770",
   "metadata": {},
   "outputs": [],
   "source": [
    "def detect_outliers(df, k, col_list):\n",
    "    ''' get upper and lower bound for list of columns in a dataframe \n",
    "        if desired return that dataframe with the outliers removed\n",
    "    '''\n",
    "    \n",
    "    odf = pd.DataFrame()\n",
    "    \n",
    "    for col in col_list:\n",
    "\n",
    "        q1, q2, q3 = df[f'{col}'].quantile([.25, .5, .75])  # get quartiles\n",
    "        \n",
    "        iqr = q3 - q1   # calculate interquartile range\n",
    "        \n",
    "        upper_bound = q3 + k * iqr   # get upper bound\n",
    "        lower_bound = q1 - k * iqr   # get lower bound\n",
    "        \n",
    "        # print each col and upper and lower bound for each column\n",
    "        print(f\"{col}: Median = {q2} lower_bound = {lower_bound} upper_bound = {upper_bound}\")\n",
    "\n",
    "        # return dataframe of outliers\n",
    "        odf = odf.append(df[(df[f'{col}'] < lower_bound) | (df[f'{col}'] > upper_bound)])\n",
    "            \n",
    "    return odf"
   ]
  },
  {
   "cell_type": "code",
   "execution_count": 55,
   "id": "9fc9c761",
   "metadata": {},
   "outputs": [
    {
     "name": "stdout",
     "output_type": "stream",
     "text": [
      "age: Median = 36.0 lower_bound = -1.625 upper_bound = 79.375\n",
      "annual_income: Median = 61.5 lower_bound = -13.25 upper_bound = 132.75\n",
      "spending_score: Median = 50.0 lower_bound = -22.625 upper_bound = 130.375\n"
     ]
    }
   ],
   "source": [
    "odf = detect_outliers(df, 1.5, ['age', 'annual_income', 'spending_score'])"
   ]
  },
  {
   "cell_type": "code",
   "execution_count": 56,
   "id": "cd3e3a5b",
   "metadata": {},
   "outputs": [
    {
     "data": {
      "text/html": [
       "<div>\n",
       "<style scoped>\n",
       "    .dataframe tbody tr th:only-of-type {\n",
       "        vertical-align: middle;\n",
       "    }\n",
       "\n",
       "    .dataframe tbody tr th {\n",
       "        vertical-align: top;\n",
       "    }\n",
       "\n",
       "    .dataframe thead th {\n",
       "        text-align: right;\n",
       "    }\n",
       "</style>\n",
       "<table border=\"1\" class=\"dataframe\">\n",
       "  <thead>\n",
       "    <tr style=\"text-align: right;\">\n",
       "      <th></th>\n",
       "      <th>customer_id</th>\n",
       "      <th>gender</th>\n",
       "      <th>age</th>\n",
       "      <th>annual_income</th>\n",
       "      <th>spending_score</th>\n",
       "    </tr>\n",
       "  </thead>\n",
       "  <tbody>\n",
       "    <tr>\n",
       "      <th>198</th>\n",
       "      <td>199</td>\n",
       "      <td>Male</td>\n",
       "      <td>32</td>\n",
       "      <td>137</td>\n",
       "      <td>18</td>\n",
       "    </tr>\n",
       "    <tr>\n",
       "      <th>199</th>\n",
       "      <td>200</td>\n",
       "      <td>Male</td>\n",
       "      <td>30</td>\n",
       "      <td>137</td>\n",
       "      <td>83</td>\n",
       "    </tr>\n",
       "  </tbody>\n",
       "</table>\n",
       "</div>"
      ],
      "text/plain": [
       "     customer_id gender  age  annual_income  spending_score\n",
       "198          199   Male   32            137              18\n",
       "199          200   Male   30            137              83"
      ]
     },
     "execution_count": 56,
     "metadata": {},
     "output_type": "execute_result"
    }
   ],
   "source": [
    "odf"
   ]
  },
  {
   "cell_type": "markdown",
   "id": "0bad00d4",
   "metadata": {},
   "source": [
    "## Q4)\n",
    "Split data into train, validate, and test."
   ]
  },
  {
   "cell_type": "code",
   "execution_count": 57,
   "id": "a0c472bf",
   "metadata": {},
   "outputs": [],
   "source": [
    "def train_validate_test_split(df):\n",
    "    '''split df into train, validate, test'''\n",
    "    \n",
    "    train, test = train_test_split(df, test_size=.2, random_state=123)\n",
    "    train, validate = train_test_split(train, test_size=.3, random_state=123)\n",
    "    \n",
    "    return train, validate, test"
   ]
  },
  {
   "cell_type": "code",
   "execution_count": 58,
   "id": "6fffc333",
   "metadata": {},
   "outputs": [],
   "source": [
    "train, validate, test = train_validate_test_split(df)\n"
   ]
  },
  {
   "cell_type": "markdown",
   "id": "8c2f77cc",
   "metadata": {},
   "source": [
    "## Q5) \n",
    "Encode categorical columns using a one hot encoder (pd.get_dummies).\n",
    "\n",
    "## Q6)\n",
    "Handles missing values.\n",
    "\n",
    "## Q7)\n",
    "Scaling"
   ]
  },
  {
   "cell_type": "code",
   "execution_count": 59,
   "id": "1aea8365",
   "metadata": {},
   "outputs": [],
   "source": [
    "import sklearn.preprocessing\n",
    "def min_max_scaling(train, validate, test, num_cols):\n",
    "    '''\n",
    "    Add scaled versions of a list of columns to train, validate, and test\n",
    "    '''\n",
    "    \n",
    "    # reset index for merge \n",
    "    train = train.reset_index(drop=True)\n",
    "    validate = validate.reset_index(drop=True)\n",
    "    test = test.reset_index(drop=True)\n",
    "    \n",
    "    scaler = sklearn.preprocessing.MinMaxScaler() # create scaler object\n",
    "\n",
    "    scaler.fit(train[num_cols]) # fit the object \n",
    "\n",
    "    # transform to get scaled columns\n",
    "    train_scaled = pd.DataFrame(scaler.transform(train[num_cols]), columns = train[num_cols].columns + \"_scaled\")\n",
    "    validate_scaled = pd.DataFrame(scaler.transform(validate[num_cols]), columns = validate[num_cols].columns + \"_scaled\")\n",
    "    test_scaled = pd.DataFrame(scaler.transform(test[num_cols]), columns = test[num_cols].columns + \"_scaled\")\n",
    "    \n",
    "    # add scaled columns to dataframes\n",
    "    train = train.merge(train_scaled, left_index=True, right_index=True)\n",
    "    validate = validate.merge(validate_scaled, left_index=True, right_index=True)\n",
    "    test = test.merge(train_scaled, left_index=True, right_index=True)\n",
    "    \n",
    "    return train, validate, test"
   ]
  },
  {
   "cell_type": "code",
   "execution_count": 60,
   "id": "528f97be",
   "metadata": {},
   "outputs": [],
   "source": [
    "train, validate, test = min_max_scaling(train, validate, test, ['age', 'annual_income', 'spending_score'])\n"
   ]
  },
  {
   "cell_type": "code",
   "execution_count": 61,
   "id": "221151db",
   "metadata": {},
   "outputs": [
    {
     "name": "stdout",
     "output_type": "stream",
     "text": [
      "(112, 8) (48, 8) (40, 8)\n"
     ]
    }
   ],
   "source": [
    "print(train.shape, validate.shape, test.shape)\n"
   ]
  },
  {
   "cell_type": "code",
   "execution_count": 62,
   "id": "d1890543",
   "metadata": {},
   "outputs": [],
   "source": [
    "# Checking some operations from the Modeling Exercises\n"
   ]
  },
  {
   "cell_type": "code",
   "execution_count": 63,
   "id": "413e802b",
   "metadata": {},
   "outputs": [
    {
     "data": {
      "text/plain": [
       "<AxesSubplot:xlabel='longitude', ylabel='latitude'>"
      ]
     },
     "execution_count": 63,
     "metadata": {},
     "output_type": "execute_result"
    },
    {
     "data": {
      "image/png": "[encoded data removed]",
      "text/plain": [
       "<Figure size 432x288 with 1 Axes>"
      ]
     },
     "metadata": {
      "needs_background": "light"
     },
     "output_type": "display_data"
    }
   ],
   "source": [
    "sns.scatterplot(data=df_dropna, x='longitude', y='latitude')\n"
   ]
  },
  {
   "cell_type": "code",
   "execution_count": 64,
   "id": "7a5c606b",
   "metadata": {},
   "outputs": [],
   "source": [
    "loc_df = df_dropna[['longitude', 'latitude']]\n"
   ]
  },
  {
   "cell_type": "code",
   "execution_count": null,
   "id": "78326b8e",
   "metadata": {},
   "outputs": [],
   "source": []
  },
  {
   "cell_type": "code",
   "execution_count": 65,
   "id": "a751afae",
   "metadata": {},
   "outputs": [
    {
     "data": {
      "text/plain": [
       "<AxesSubplot:xlabel='longitude', ylabel='Count'>"
      ]
     },
     "execution_count": 65,
     "metadata": {},
     "output_type": "execute_result"
    },
    {
     "data": {
      "image/png": "[encoded data removed]",
      "text/plain": [
       "<Figure size 432x288 with 1 Axes>"
      ]
     },
     "metadata": {
      "needs_background": "light"
     },
     "output_type": "display_data"
    }
   ],
   "source": [
    "sns.histplot(data=loc_df, x='longitude')\n"
   ]
  },
  {
   "cell_type": "code",
   "execution_count": 66,
   "id": "dba34a46",
   "metadata": {},
   "outputs": [
    {
     "data": {
      "text/plain": [
       "<AxesSubplot:xlabel='latitude', ylabel='Count'>"
      ]
     },
     "execution_count": 66,
     "metadata": {},
     "output_type": "execute_result"
    },
    {
     "data": {
      "image/png": "[encoded data removed]",
      "text/plain": [
       "<Figure size 432x288 with 1 Axes>"
      ]
     },
     "metadata": {
      "needs_background": "light"
     },
     "output_type": "display_data"
    }
   ],
   "source": [
    "sns.histplot(data=loc_df, x='latitude')\n"
   ]
  },
  {
   "cell_type": "code",
   "execution_count": 67,
   "id": "1975d28c",
   "metadata": {},
   "outputs": [],
   "source": [
    "from sklearn.cluster import KMeans\n"
   ]
  },
  {
   "cell_type": "code",
   "execution_count": 68,
   "id": "a2c76ad0",
   "metadata": {},
   "outputs": [
    {
     "data": {
      "image/png": "[encoded data removed]",
      "text/plain": [
       "<Figure size 648x432 with 1 Axes>"
      ]
     },
     "metadata": {},
     "output_type": "display_data"
    }
   ],
   "source": [
    "\n",
    "with plt.style.context('seaborn-whitegrid'):\n",
    "    plt.figure(figsize=(9, 6))\n",
    "    pd.Series({k: KMeans(k).fit(loc_df).inertia_ for k in range(2, 12)}).plot(marker='x')\n",
    "    plt.xticks(range(2, 12))\n",
    "    plt.xlabel('k')\n",
    "    plt.ylabel('inertia')\n",
    "    plt.title('Change in inertia as k increases')"
   ]
  },
  {
   "cell_type": "code",
   "execution_count": 69,
   "id": "34600954",
   "metadata": {},
   "outputs": [
    {
     "data": {
      "text/plain": [
       "array([1, 0, 1, ..., 2, 1, 1], dtype=int32)"
      ]
     },
     "execution_count": 69,
     "metadata": {},
     "output_type": "execute_result"
    }
   ],
   "source": [
    "# establish instance of k, fit and use to predict\n",
    "kmeans = KMeans(n_clusters=4)\n",
    "kmeans.fit(loc_df)\n",
    "\n",
    "kmeans.predict(loc_df)"
   ]
  },
  {
   "cell_type": "code",
   "execution_count": 70,
   "id": "2e1bbd5b",
   "metadata": {},
   "outputs": [],
   "source": [
    "# append predictions to our original dataframe\n",
    "loc_df['cluster'] = kmeans.predict(loc_df)"
   ]
  },
  {
   "cell_type": "code",
   "execution_count": 71,
   "id": "9f0008c4",
   "metadata": {},
   "outputs": [
    {
     "data": {
      "text/html": [
       "<div>\n",
       "<style scoped>\n",
       "    .dataframe tbody tr th:only-of-type {\n",
       "        vertical-align: middle;\n",
       "    }\n",
       "\n",
       "    .dataframe tbody tr th {\n",
       "        vertical-align: top;\n",
       "    }\n",
       "\n",
       "    .dataframe thead th {\n",
       "        text-align: right;\n",
       "    }\n",
       "</style>\n",
       "<table border=\"1\" class=\"dataframe\">\n",
       "  <thead>\n",
       "    <tr style=\"text-align: right;\">\n",
       "      <th></th>\n",
       "      <th>longitude</th>\n",
       "      <th>latitude</th>\n",
       "      <th>cluster</th>\n",
       "    </tr>\n",
       "  </thead>\n",
       "  <tbody>\n",
       "    <tr>\n",
       "      <th>0</th>\n",
       "      <td>-117869207.0</td>\n",
       "      <td>33634931.0</td>\n",
       "      <td>1</td>\n",
       "    </tr>\n",
       "    <tr>\n",
       "      <th>1</th>\n",
       "      <td>-119281531.0</td>\n",
       "      <td>34449266.0</td>\n",
       "      <td>0</td>\n",
       "    </tr>\n",
       "    <tr>\n",
       "      <th>2</th>\n",
       "      <td>-117823170.0</td>\n",
       "      <td>33886168.0</td>\n",
       "      <td>1</td>\n",
       "    </tr>\n",
       "    <tr>\n",
       "      <th>3</th>\n",
       "      <td>-118240722.0</td>\n",
       "      <td>34245180.0</td>\n",
       "      <td>2</td>\n",
       "    </tr>\n",
       "    <tr>\n",
       "      <th>6</th>\n",
       "      <td>-118179824.0</td>\n",
       "      <td>34145202.0</td>\n",
       "      <td>2</td>\n",
       "    </tr>\n",
       "  </tbody>\n",
       "</table>\n",
       "</div>"
      ],
      "text/plain": [
       "     longitude    latitude  cluster\n",
       "0 -117869207.0  33634931.0        1\n",
       "1 -119281531.0  34449266.0        0\n",
       "2 -117823170.0  33886168.0        1\n",
       "3 -118240722.0  34245180.0        2\n",
       "6 -118179824.0  34145202.0        2"
      ]
     },
     "execution_count": 71,
     "metadata": {},
     "output_type": "execute_result"
    }
   ],
   "source": [
    "loc_df.head()\n"
   ]
  },
  {
   "cell_type": "code",
   "execution_count": 72,
   "id": "d006f0d6",
   "metadata": {},
   "outputs": [
    {
     "data": {
      "text/plain": [
       "<AxesSubplot:xlabel='longitude', ylabel='latitude'>"
      ]
     },
     "execution_count": 72,
     "metadata": {},
     "output_type": "execute_result"
    },
    {
     "data": {
      "image/png": "[encoded data removed]",
      "text/plain": [
       "<Figure size 432x288 with 1 Axes>"
      ]
     },
     "metadata": {
      "needs_background": "light"
     },
     "output_type": "display_data"
    }
   ],
   "source": [
    "# Plot original vs kmeans cluster prediction\n",
    "\n",
    "sns.scatterplot(data=loc_df, x='longitude', y='latitude', hue='cluster')"
   ]
  },
  {
   "cell_type": "markdown",
   "id": "8148f528",
   "metadata": {},
   "source": [
    "Encapsulate your work in a wrangle_mall.py python module."
   ]
  },
  {
   "cell_type": "code",
   "execution_count": null,
   "id": "2c2c13f0",
   "metadata": {},
   "outputs": [],
   "source": []
  }
 ],
 "metadata": {
  "kernelspec": {
   "display_name": "Python 3 (ipykernel)",
   "language": "python",
   "name": "python3"
  },
  "language_info": {
   "codemirror_mode": {
    "name": "ipython",
    "version": 3
   },
   "file_extension": ".py",
   "mimetype": "text/x-python",
   "name": "python",
   "nbconvert_exporter": "python",
   "pygments_lexer": "ipython3",
   "version": "3.9.7"
  }
 },
 "nbformat": 4,
 "nbformat_minor": 5
}
