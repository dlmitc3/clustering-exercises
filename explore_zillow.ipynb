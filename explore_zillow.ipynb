{
 "cells": [
  {
   "cell_type": "markdown",
   "id": "0481d20e",
   "metadata": {},
   "source": [
    "\n",
    "1. Ask at least 5 questions about the data, keeping in mind that your target variable is logerror. e.g. Is logerror significantly different for properties in LA County vs Orange County vs Ventura County?\n",
    "\n",
    "2. Answer those questions through a mix of statistical tests and visualizations."
   ]
  },
  {
   "cell_type": "code",
   "execution_count": 37,
   "id": "49bfc8d5",
   "metadata": {},
   "outputs": [],
   "source": [
    "import os\n",
    "import pandas as pd\n",
    "import seaborn as sns\n",
    "import matplotlib.pyplot as plt\n",
    "import numpy as np\n",
    "import scipy.stats as stats\n",
    "\n",
    "import wrangle_zillow\n",
    "import acquire\n",
    "\n",
    "pd.set_option('display.max_rows', 100)\n",
    "import env \n",
    "from pydataset import data\n",
    "\n",
    "\n",
    "import warnings\n",
    "warnings.filterwarnings(\"ignore\")\n",
    "\n",
    "from sklearn.model_selection import train_test_split"
   ]
  },
  {
   "cell_type": "code",
   "execution_count": 2,
   "id": "e6fe6f32",
   "metadata": {},
   "outputs": [],
   "source": [
    "df = wrangle_zillow.acquire()\n",
    "\n"
   ]
  },
  {
   "cell_type": "code",
   "execution_count": 3,
   "id": "7d695818",
   "metadata": {},
   "outputs": [],
   "source": [
    "df = wrangle_zillow.prepare(df)\n"
   ]
  },
  {
   "cell_type": "code",
   "execution_count": 4,
   "id": "b93281fd",
   "metadata": {},
   "outputs": [],
   "source": [
    "df = wrangle_zillow.handle_missing_values(df, .9, 1)\n"
   ]
  },
  {
   "cell_type": "code",
   "execution_count": 5,
   "id": "301beb29",
   "metadata": {},
   "outputs": [
    {
     "name": "stdout",
     "output_type": "stream",
     "text": [
      "train\t n = 29367\n",
      "test\t n = 10489\n",
      "validate n = 12586\n"
     ]
    }
   ],
   "source": [
    "train, validate, test = wrangle_zillow.train_validate_test_split(df)\n"
   ]
  },
  {
   "cell_type": "code",
   "execution_count": 6,
   "id": "02596106",
   "metadata": {},
   "outputs": [
    {
     "name": "stdout",
     "output_type": "stream",
     "text": [
      "train\t n = 23851\n",
      "test\t n = 8516\n",
      "validate n = 10172\n"
     ]
    }
   ],
   "source": [
    "quant_cols = [col for col in df.columns if ((df[col].dtype != 'object') \n",
    "                                             & (len(df[col].unique()) > 10) \n",
    "                                             & ('regionid' not in col) \n",
    "                                             & ('census' not in col))]\n",
    "\n",
    "train, validate, test = wrangle_zillow.remove_outliers(train, validate, test, 1.5, quant_cols)"
   ]
  },
  {
   "cell_type": "code",
   "execution_count": 7,
   "id": "74144704",
   "metadata": {},
   "outputs": [
    {
     "name": "stdout",
     "output_type": "stream",
     "text": [
      "<class 'pandas.core.frame.DataFrame'>\n",
      "Int64Index: 52442 entries, 0 to 77579\n",
      "Data columns (total 22 columns):\n",
      " #   Column                     Non-Null Count  Dtype  \n",
      "---  ------                     --------------  -----  \n",
      " 0   logerror                   52442 non-null  float64\n",
      " 1   transactiondate            52442 non-null  object \n",
      " 2   bathroomcnt                52442 non-null  float64\n",
      " 3   bedroomcnt                 52442 non-null  float64\n",
      " 4   fips                       52442 non-null  float64\n",
      " 5   fireplacecnt               52442 non-null  float64\n",
      " 6   garagecarcnt               52442 non-null  float64\n",
      " 7   garagetotalsqft            52442 non-null  float64\n",
      " 8   hashottuborspa             52442 non-null  float64\n",
      " 9   latitude                   52442 non-null  float64\n",
      " 10  longitude                  52442 non-null  float64\n",
      " 11  poolcnt                    52442 non-null  float64\n",
      " 12  propertycountylandusecode  52442 non-null  object \n",
      " 13  regionidcounty             52442 non-null  float64\n",
      " 14  roomcnt                    52442 non-null  float64\n",
      " 15  threequarterbathnbr        52442 non-null  float64\n",
      " 16  assessmentyear             52442 non-null  float64\n",
      " 17  taxdelinquencyflag         52442 non-null  object \n",
      " 18  propertylandusedesc        52442 non-null  object \n",
      " 19  has_garage                 52442 non-null  int64  \n",
      " 20  has_pool                   52442 non-null  int64  \n",
      " 21  has_fireplace              52442 non-null  int64  \n",
      "dtypes: float64(15), int64(3), object(4)\n",
      "memory usage: 9.2+ MB\n"
     ]
    }
   ],
   "source": [
    "df.info()"
   ]
  },
  {
   "cell_type": "markdown",
   "id": "b8e31ff2",
   "metadata": {},
   "source": [
    "### a1. Does logerror differ across counties (fips)?"
   ]
  },
  {
   "cell_type": "code",
   "execution_count": 8,
   "id": "817f7630",
   "metadata": {},
   "outputs": [
    {
     "data": {
      "image/png": "[encoded data removed]",
      "text/plain": [
       "<Figure size 432x288 with 1 Axes>"
      ]
     },
     "metadata": {
      "needs_background": "light"
     },
     "output_type": "display_data"
    }
   ],
   "source": [
    "# visualize\n",
    "sns.boxplot(data=train, x='fips', y='logerror')\n",
    "plt.show()"
   ]
  },
  {
   "cell_type": "code",
   "execution_count": 9,
   "id": "c95a63c1",
   "metadata": {},
   "outputs": [
    {
     "data": {
      "image/png": "[encoded data removed]",
      "text/plain": [
       "<Figure size 432x288 with 1 Axes>"
      ]
     },
     "metadata": {
      "needs_background": "light"
     },
     "output_type": "display_data"
    },
    {
     "data": {
      "image/png": "[encoded data removed]",
      "text/plain": [
       "<Figure size 432x288 with 1 Axes>"
      ]
     },
     "metadata": {
      "needs_background": "light"
     },
     "output_type": "display_data"
    },
    {
     "data": {
      "image/png": "[encoded data removed]",
      "text/plain": [
       "<Figure size 432x288 with 1 Axes>"
      ]
     },
     "metadata": {
      "needs_background": "light"
     },
     "output_type": "display_data"
    }
   ],
   "source": [
    "# verify assumptions: normal distribution\n",
    "for fips_code in train.fips.unique():\n",
    "    county = train[train.fips == fips_code]\n",
    "    sns.histplot(county.logerror)\n",
    "    plt.show()"
   ]
  },
  {
   "cell_type": "code",
   "execution_count": 10,
   "id": "951ea83a",
   "metadata": {},
   "outputs": [
    {
     "name": "stdout",
     "output_type": "stream",
     "text": [
      "equal variances\n"
     ]
    }
   ],
   "source": [
    "county1 = df[df.fips == df.fips.unique()[0]]\n",
    "county2 = df[df.fips == df.fips.unique()[1]]\n",
    "county3 = df[df.fips == df.fips.unique()[2]]\n",
    "\n",
    "alpha = .05\n",
    "stat, p = stats.levene(county1.logerror, county2.logerror, county3.logerror)\n",
    "if p < alpha:\n",
    "    print('equal variances')\n",
    "else: print('unequal variances')"
   ]
  },
  {
   "cell_type": "code",
   "execution_count": 11,
   "id": "dc818a25",
   "metadata": {},
   "outputs": [
    {
     "data": {
      "text/plain": [
       "(20.05877415554803, 1.958464169690811e-09)"
      ]
     },
     "execution_count": 11,
     "metadata": {},
     "output_type": "execute_result"
    }
   ],
   "source": [
    "alpha = .05\n",
    "stat, p = stats.f_oneway(county1.logerror, county2.logerror, county3.logerror)\n",
    "stat, p"
   ]
  },
  {
   "cell_type": "code",
   "execution_count": 12,
   "id": "4f2290b3",
   "metadata": {},
   "outputs": [
    {
     "name": "stdout",
     "output_type": "stream",
     "text": [
      "reject H0\n"
     ]
    }
   ],
   "source": [
    "if p < alpha:\n",
    "    print('reject H0')\n",
    "else: print('fail to reject H0')"
   ]
  },
  {
   "cell_type": "markdown",
   "id": "4abd7f5d",
   "metadata": {},
   "source": [
    "We reject the null hypothesis and proceed under the assumption that there is a difference in logerror among the three counties in our dataset"
   ]
  },
  {
   "cell_type": "markdown",
   "id": "a82cf389",
   "metadata": {},
   "source": [
    "### @2. Does logerror differ for properties that have garages vs. those that don't?\n"
   ]
  },
  {
   "cell_type": "code",
   "execution_count": 13,
   "id": "a9ccbca4",
   "metadata": {},
   "outputs": [],
   "source": [
    "# get the data\n",
    "garages = train[train.has_garage == 1]\n",
    "no_garages = train[train.has_garage == 0]"
   ]
  },
  {
   "cell_type": "code",
   "execution_count": 14,
   "id": "7bcdfeda",
   "metadata": {},
   "outputs": [
    {
     "data": {
      "image/png": "[encoded data removed]",
      "text/plain": [
       "<Figure size 432x288 with 1 Axes>"
      ]
     },
     "metadata": {
      "needs_background": "light"
     },
     "output_type": "display_data"
    }
   ],
   "source": [
    "# visualize:\n",
    "sns.boxplot(data=train, \n",
    "            x='has_garage',\n",
    "            y='logerror')\n",
    "plt.show()"
   ]
  },
  {
   "cell_type": "code",
   "execution_count": 15,
   "id": "d4a0a33d",
   "metadata": {},
   "outputs": [
    {
     "data": {
      "image/png": "[encoded data removed]",
      "text/plain": [
       "<Figure size 432x288 with 1 Axes>"
      ]
     },
     "metadata": {
      "needs_background": "light"
     },
     "output_type": "display_data"
    },
    {
     "data": {
      "image/png": "[encoded data removed]",
      "text/plain": [
       "<Figure size 432x288 with 1 Axes>"
      ]
     },
     "metadata": {
      "needs_background": "light"
     },
     "output_type": "display_data"
    }
   ],
   "source": [
    "# verify assumptions: normal distribution\n",
    "for subset in [garages, no_garages]:\n",
    "    sns.histplot(subset.logerror)\n",
    "    plt.show()\n"
   ]
  },
  {
   "cell_type": "code",
   "execution_count": 16,
   "id": "484f0c79",
   "metadata": {},
   "outputs": [
    {
     "name": "stdout",
     "output_type": "stream",
     "text": [
      "equal variances\n"
     ]
    }
   ],
   "source": [
    "# verify assumptions: equal variances:\n",
    "alpha = .05\n",
    "stat, p = stats.levene(garages.logerror, no_garages.logerror)\n",
    "if p < alpha:\n",
    "    print('equal variances')\n",
    "else: print('unequal variances')"
   ]
  },
  {
   "cell_type": "code",
   "execution_count": 17,
   "id": "b19babbb",
   "metadata": {},
   "outputs": [
    {
     "data": {
      "text/plain": [
       "(175.06170915774973, 8.159887094159913e-05)"
      ]
     },
     "execution_count": 17,
     "metadata": {},
     "output_type": "execute_result"
    }
   ],
   "source": [
    "# perform the test\n",
    "alpha = .05\n",
    "t, p = stats.ttest_ind(garages.logerror, no_garages.logerror)\n",
    "stat, p"
   ]
  },
  {
   "cell_type": "code",
   "execution_count": 18,
   "id": "025ca69a",
   "metadata": {},
   "outputs": [
    {
     "name": "stdout",
     "output_type": "stream",
     "text": [
      "reject H0\n"
     ]
    }
   ],
   "source": [
    "if p < alpha:\n",
    "    print('reject H0')\n",
    "else: print('fail to reject H0')"
   ]
  },
  {
   "cell_type": "markdown",
   "id": "dc5898b8",
   "metadata": {},
   "source": [
    "We reject the null hypothesis and proceed under the assumption that there is a difference in logerror for properties with garages compared to those without\n",
    "\n"
   ]
  },
  {
   "cell_type": "markdown",
   "id": "c80c853f",
   "metadata": {},
   "source": [
    "### a3. Does logerror differ for properties that have pools vs those that don't\n"
   ]
  },
  {
   "cell_type": "code",
   "execution_count": 19,
   "id": "4098fd2b",
   "metadata": {},
   "outputs": [
    {
     "data": {
      "image/png": "[encoded data removed]",
      "text/plain": [
       "<Figure size 432x288 with 1 Axes>"
      ]
     },
     "metadata": {
      "needs_background": "light"
     },
     "output_type": "display_data"
    }
   ],
   "source": [
    "# visualize\n",
    "sns.boxplot(data=train, x='has_pool', y='logerror')\n",
    "plt.show()"
   ]
  },
  {
   "cell_type": "code",
   "execution_count": 20,
   "id": "ae8908d6",
   "metadata": {},
   "outputs": [],
   "source": [
    "# get data\n",
    "pools = train[train.has_pool == 1]\n",
    "no_pools = train[train.has_pool == 0]"
   ]
  },
  {
   "cell_type": "code",
   "execution_count": 21,
   "id": "ca21f523",
   "metadata": {},
   "outputs": [
    {
     "data": {
      "image/png": "[encoded data removed]",
      "text/plain": [
       "<Figure size 432x288 with 1 Axes>"
      ]
     },
     "metadata": {
      "needs_background": "light"
     },
     "output_type": "display_data"
    },
    {
     "data": {
      "image/png": "[encoded data removed]",
      "text/plain": [
       "<Figure size 432x288 with 1 Axes>"
      ]
     },
     "metadata": {
      "needs_background": "light"
     },
     "output_type": "display_data"
    }
   ],
   "source": [
    "# verify assumptions: normal distribution\n",
    "for subset in [pools, no_pools]:\n",
    "    sns.histplot(subset.logerror)\n",
    "    plt.show()"
   ]
  },
  {
   "cell_type": "code",
   "execution_count": 22,
   "id": "99d43b75",
   "metadata": {},
   "outputs": [
    {
     "name": "stdout",
     "output_type": "stream",
     "text": [
      "equal variances\n"
     ]
    }
   ],
   "source": [
    "# verify assumptions: equal variances:\n",
    "alpha = .05\n",
    "stat, p = stats.levene(pools.logerror, no_pools.logerror)\n",
    "if p < alpha:\n",
    "    print('equal variances')\n",
    "else: print('unequal variances')\n"
   ]
  },
  {
   "cell_type": "code",
   "execution_count": 23,
   "id": "dc434f68",
   "metadata": {},
   "outputs": [
    {
     "data": {
      "text/plain": [
       "(10.574748978773288, 2.0350905344727646e-06)"
      ]
     },
     "execution_count": 23,
     "metadata": {},
     "output_type": "execute_result"
    }
   ],
   "source": [
    "# perform the test\n",
    "alpha = .05\n",
    "t, p = stats.ttest_ind(pools.logerror, no_pools.logerror)\n",
    "stat, p"
   ]
  },
  {
   "cell_type": "code",
   "execution_count": 24,
   "id": "4b5e601e",
   "metadata": {},
   "outputs": [
    {
     "name": "stdout",
     "output_type": "stream",
     "text": [
      "reject H0\n"
     ]
    }
   ],
   "source": [
    "if p < alpha:\n",
    "    print('reject H0')\n",
    "else: print('fail to reject H0')"
   ]
  },
  {
   "cell_type": "markdown",
   "id": "bc6bf940",
   "metadata": {},
   "source": [
    "We reject the null hypothesis and proceed under the assumption that there is a difference in logerror for properties with pools compared to those without\n",
    "\n"
   ]
  },
  {
   "cell_type": "markdown",
   "id": "53ed30ec",
   "metadata": {},
   "source": [
    "### a4. Does logerror differ for properties that have a hot tub or spa vs those that don't?\n"
   ]
  },
  {
   "cell_type": "code",
   "execution_count": 25,
   "id": "d42a16ce",
   "metadata": {},
   "outputs": [
    {
     "data": {
      "image/png": "[encoded data removed]",
      "text/plain": [
       "<Figure size 432x288 with 1 Axes>"
      ]
     },
     "metadata": {
      "needs_background": "light"
     },
     "output_type": "display_data"
    }
   ],
   "source": [
    "# visualize\n",
    "sns.boxplot(data=train, x='hashottuborspa', y='logerror')\n",
    "plt.show()\n"
   ]
  },
  {
   "cell_type": "code",
   "execution_count": 26,
   "id": "84780816",
   "metadata": {},
   "outputs": [],
   "source": [
    "# get the data\n",
    "hottubs = train[train.hashottuborspa == 1]\n",
    "no_hottubs = train[train.hashottuborspa == 0]"
   ]
  },
  {
   "cell_type": "code",
   "execution_count": 27,
   "id": "463a71f4",
   "metadata": {},
   "outputs": [
    {
     "data": {
      "image/png": "[encoded data removed]",
      "text/plain": [
       "<Figure size 432x288 with 1 Axes>"
      ]
     },
     "metadata": {
      "needs_background": "light"
     },
     "output_type": "display_data"
    },
    {
     "data": {
      "image/png": "[encoded data removed]",
      "text/plain": [
       "<Figure size 432x288 with 1 Axes>"
      ]
     },
     "metadata": {
      "needs_background": "light"
     },
     "output_type": "display_data"
    }
   ],
   "source": [
    "# verify assumptions: normal distribution\n",
    "for subset in [hottubs, no_hottubs]:\n",
    "    sns.histplot(subset.logerror)\n",
    "    plt.show()"
   ]
  },
  {
   "cell_type": "code",
   "execution_count": 28,
   "id": "cbe580cd",
   "metadata": {},
   "outputs": [
    {
     "name": "stdout",
     "output_type": "stream",
     "text": [
      "unequal variances\n"
     ]
    }
   ],
   "source": [
    "# verify assumptions: equal variances:\n",
    "alpha = .05\n",
    "stat, p = stats.levene(hottubs.logerror, no_hottubs.logerror)\n",
    "if p < alpha:\n",
    "    print('equal variances')\n",
    "else: print('unequal variances')"
   ]
  },
  {
   "cell_type": "code",
   "execution_count": 29,
   "id": "e609ed50",
   "metadata": {},
   "outputs": [
    {
     "data": {
      "text/plain": [
       "(7886869.0, 0.44178782185743715)"
      ]
     },
     "execution_count": 29,
     "metadata": {},
     "output_type": "execute_result"
    }
   ],
   "source": [
    "# perform the test (unequal variances >> non-parametric test == Mann-Whitney)\n",
    "alpha = .05\n",
    "stat, p = stats.mannwhitneyu(hottubs.logerror, no_hottubs.logerror)\n",
    "stat, p"
   ]
  },
  {
   "cell_type": "code",
   "execution_count": 30,
   "id": "ca5f4c16",
   "metadata": {},
   "outputs": [
    {
     "name": "stdout",
     "output_type": "stream",
     "text": [
      "fail to reject H0\n"
     ]
    }
   ],
   "source": [
    "if p < alpha:\n",
    "    print('reject H0')\n",
    "else: print('fail to reject H0')"
   ]
  },
  {
   "cell_type": "markdown",
   "id": "7aee089f",
   "metadata": {},
   "source": [
    "We fail to reject the null hypothesis and we proceed under the assumption that: there is no difference in logerror for properties with and without hot tubs / spas\n",
    "\n"
   ]
  },
  {
   "cell_type": "markdown",
   "id": "75aae14f",
   "metadata": {},
   "source": [
    "### a5. Is there a difference in logerror for properties with fireplaces vs those without?\n"
   ]
  },
  {
   "cell_type": "code",
   "execution_count": 31,
   "id": "81a29dc2",
   "metadata": {},
   "outputs": [
    {
     "data": {
      "image/png": "[encoded data removed]",
      "text/plain": [
       "<Figure size 432x288 with 1 Axes>"
      ]
     },
     "metadata": {
      "needs_background": "light"
     },
     "output_type": "display_data"
    }
   ],
   "source": [
    "# visualize:\n",
    "sns.boxplot(data=train, \n",
    "            x='has_fireplace',\n",
    "            y='logerror')\n",
    "plt.show()"
   ]
  },
  {
   "cell_type": "code",
   "execution_count": 32,
   "id": "2d00af00",
   "metadata": {},
   "outputs": [],
   "source": [
    "# get the data\n",
    "fireplaces = train[train.has_fireplace == 1]\n",
    "no_fireplaces = train[train.has_fireplace == 0]"
   ]
  },
  {
   "cell_type": "code",
   "execution_count": 33,
   "id": "838221d6",
   "metadata": {},
   "outputs": [
    {
     "data": {
      "image/png": "[encoded data removed]",
      "text/plain": [
       "<Figure size 432x288 with 1 Axes>"
      ]
     },
     "metadata": {
      "needs_background": "light"
     },
     "output_type": "display_data"
    },
    {
     "data": {
      "image/png": "[encoded data removed]",
      "text/plain": [
       "<Figure size 432x288 with 1 Axes>"
      ]
     },
     "metadata": {
      "needs_background": "light"
     },
     "output_type": "display_data"
    }
   ],
   "source": [
    "# verify assumptions: normal distribution\n",
    "for subset in [fireplaces, no_fireplaces]:\n",
    "    sns.histplot(subset.logerror)\n",
    "    plt.show()"
   ]
  },
  {
   "cell_type": "code",
   "execution_count": 34,
   "id": "82bd287e",
   "metadata": {},
   "outputs": [
    {
     "name": "stdout",
     "output_type": "stream",
     "text": [
      "unequal variances\n"
     ]
    }
   ],
   "source": [
    "# verify assumptions: equal variances:\n",
    "alpha = .05\n",
    "stat, p = stats.levene(hottubs.logerror, no_hottubs.logerror)\n",
    "if p < alpha:\n",
    "    print('equal variances')\n",
    "else: print('unequal variances')\n"
   ]
  },
  {
   "cell_type": "code",
   "execution_count": 35,
   "id": "e0f33cc4",
   "metadata": {},
   "outputs": [
    {
     "data": {
      "text/plain": [
       "(32671550.5, 0.0769805782469288)"
      ]
     },
     "execution_count": 35,
     "metadata": {},
     "output_type": "execute_result"
    }
   ],
   "source": [
    "# perform the test (unequal variances >> non-parametric test == Mann-Whitney)\n",
    "alpha = .05\n",
    "stat, p = stats.mannwhitneyu(fireplaces.logerror, no_fireplaces.logerror)\n",
    "stat, p"
   ]
  },
  {
   "cell_type": "code",
   "execution_count": 36,
   "id": "83772d5a",
   "metadata": {},
   "outputs": [
    {
     "name": "stdout",
     "output_type": "stream",
     "text": [
      "fail to reject H0\n"
     ]
    }
   ],
   "source": [
    "if p < alpha:\n",
    "    print('reject H0')\n",
    "else: print('fail to reject H0')"
   ]
  },
  {
   "cell_type": "markdown",
   "id": "191c43ca",
   "metadata": {},
   "source": [
    "We fail to reject the null hypothesis and proceed under the assumption that there is no difference in logerror for properties with fireplaces vs those without.\n",
    "\n"
   ]
  },
  {
   "cell_type": "markdown",
   "id": "f6eeca1b",
   "metadata": {},
   "source": [
    "**BONUS:** Compute the mean(logerror) by zipcode and the overall mean(logerror). Write a loop that will run a t-test between the overall mean and the mean for each zip code. We want to identify the zip codes where the error is significantly higher or lower than the expected error."
   ]
  },
  {
   "cell_type": "code",
   "execution_count": 39,
   "id": "46814c07",
   "metadata": {},
   "outputs": [],
   "source": [
    "df = wrangle_zillow.acquire()\n"
   ]
  },
  {
   "cell_type": "code",
   "execution_count": 40,
   "id": "fec6e8d8",
   "metadata": {},
   "outputs": [],
   "source": [
    "df = df[['regionidzip', 'logerror']]\n",
    "df = df.dropna()\n"
   ]
  },
  {
   "cell_type": "code",
   "execution_count": 42,
   "id": "1d7e76b6",
   "metadata": {},
   "outputs": [
    {
     "name": "stdout",
     "output_type": "stream",
     "text": [
      "train\t n = 43416\n",
      "test\t n = 15506\n",
      "validate n = 18608\n"
     ]
    }
   ],
   "source": [
    "train, validate, test = wrangle_zillow.train_validate_test_split(df)\n",
    "\n"
   ]
  },
  {
   "cell_type": "code",
   "execution_count": 43,
   "id": "7b0da928",
   "metadata": {},
   "outputs": [],
   "source": [
    "alpha = .05\n",
    "zipcode_list = [] # for storing zipcodes whose errors are significantly different from average\n",
    "for zipcode in train.regionidzip.unique():\n",
    "    subset = df[df.regionidzip == zipcode]\n",
    "    _, p = stats.ttest_1samp(subset.logerror, train.logerror.mean())\n",
    "    if p < .05:\n",
    "        zipcode_list.append(zipcode)"
   ]
  },
  {
   "cell_type": "code",
   "execution_count": 44,
   "id": "15478b02",
   "metadata": {},
   "outputs": [
    {
     "name": "stdout",
     "output_type": "stream",
     "text": [
      "96336\n",
      "96124\n",
      "96004\n",
      "96996\n",
      "96475\n",
      "96378\n",
      "96993\n",
      "96492\n",
      "96356\n",
      "96117\n",
      "96241\n",
      "96104\n",
      "96026\n",
      "95984\n",
      "96508\n",
      "96465\n",
      "96957\n",
      "96280\n",
      "96217\n",
      "96349\n",
      "96326\n",
      "96152\n",
      "96325\n",
      "96974\n",
      "96985\n",
      "96293\n",
      "96043\n",
      "96171\n",
      "96415\n",
      "97068\n",
      "96197\n",
      "96426\n",
      "96007\n",
      "96095\n",
      "96190\n",
      "96218\n",
      "96514\n",
      "96339\n",
      "96294\n",
      "96245\n",
      "96020\n",
      "96379\n",
      "97051\n",
      "96244\n",
      "97064\n",
      "96327\n",
      "96946\n",
      "96047\n",
      "96478\n",
      "96137\n",
      "96517\n",
      "96107\n",
      "96228\n",
      "96097\n",
      "97298\n",
      "96120\n",
      "96387\n",
      "97039\n",
      "96103\n",
      "95989\n",
      "96038\n",
      "96216\n",
      "96951\n"
     ]
    }
   ],
   "source": [
    "# zipcodes where the logerror is significantly different that the overall error:\n",
    "for zipcode in zipcode_list:\n",
    "    print(int(zipcode))\n"
   ]
  },
  {
   "cell_type": "code",
   "execution_count": null,
   "id": "8cc00809",
   "metadata": {},
   "outputs": [],
   "source": []
  }
 ],
 "metadata": {
  "kernelspec": {
   "display_name": "Python 3 (ipykernel)",
   "language": "python",
   "name": "python3"
  },
  "language_info": {
   "codemirror_mode": {
    "name": "ipython",
    "version": 3
   },
   "file_extension": ".py",
   "mimetype": "text/x-python",
   "name": "python",
   "nbconvert_exporter": "python",
   "pygments_lexer": "ipython3",
   "version": "3.9.7"
  }
 },
 "nbformat": 4,
 "nbformat_minor": 5
}
